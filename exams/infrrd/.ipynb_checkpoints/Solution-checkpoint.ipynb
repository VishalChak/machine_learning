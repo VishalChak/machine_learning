{
 "cells": [
  {
   "cell_type": "code",
   "execution_count": 2,
   "metadata": {},
   "outputs": [
    {
     "data": {
      "text/html": [
       "<div>\n",
       "<style scoped>\n",
       "    .dataframe tbody tr th:only-of-type {\n",
       "        vertical-align: middle;\n",
       "    }\n",
       "\n",
       "    .dataframe tbody tr th {\n",
       "        vertical-align: top;\n",
       "    }\n",
       "\n",
       "    .dataframe thead th {\n",
       "        text-align: right;\n",
       "    }\n",
       "</style>\n",
       "<table border=\"1\" class=\"dataframe\">\n",
       "  <thead>\n",
       "    <tr style=\"text-align: right;\">\n",
       "      <th></th>\n",
       "      <th>purchasing_cost</th>\n",
       "      <th>repair_cost</th>\n",
       "      <th>windows</th>\n",
       "      <th>people</th>\n",
       "      <th>space</th>\n",
       "      <th>safety</th>\n",
       "      <th>label</th>\n",
       "    </tr>\n",
       "  </thead>\n",
       "  <tbody>\n",
       "    <tr>\n",
       "      <th>0</th>\n",
       "      <td>high</td>\n",
       "      <td>very_high</td>\n",
       "      <td>5more</td>\n",
       "      <td>more</td>\n",
       "      <td>medium</td>\n",
       "      <td>med</td>\n",
       "      <td>unacceptable</td>\n",
       "    </tr>\n",
       "    <tr>\n",
       "      <th>1</th>\n",
       "      <td>very_high</td>\n",
       "      <td>medium</td>\n",
       "      <td>4</td>\n",
       "      <td>more</td>\n",
       "      <td>big</td>\n",
       "      <td>low</td>\n",
       "      <td>unacceptable</td>\n",
       "    </tr>\n",
       "    <tr>\n",
       "      <th>2</th>\n",
       "      <td>medium</td>\n",
       "      <td>medium</td>\n",
       "      <td>5more</td>\n",
       "      <td>4</td>\n",
       "      <td>medium</td>\n",
       "      <td>low</td>\n",
       "      <td>unacceptable</td>\n",
       "    </tr>\n",
       "    <tr>\n",
       "      <th>3</th>\n",
       "      <td>high</td>\n",
       "      <td>high</td>\n",
       "      <td>2</td>\n",
       "      <td>more</td>\n",
       "      <td>medium</td>\n",
       "      <td>high</td>\n",
       "      <td>acceptable</td>\n",
       "    </tr>\n",
       "    <tr>\n",
       "      <th>4</th>\n",
       "      <td>high</td>\n",
       "      <td>very_high</td>\n",
       "      <td>5more</td>\n",
       "      <td>2</td>\n",
       "      <td>big</td>\n",
       "      <td>high</td>\n",
       "      <td>unacceptable</td>\n",
       "    </tr>\n",
       "  </tbody>\n",
       "</table>\n",
       "</div>"
      ],
      "text/plain": [
       "  purchasing_cost repair_cost windows people   space safety         label\n",
       "0            high   very_high   5more   more  medium    med  unacceptable\n",
       "1       very_high      medium       4   more     big    low  unacceptable\n",
       "2          medium      medium   5more      4  medium    low  unacceptable\n",
       "3            high        high       2   more  medium   high    acceptable\n",
       "4            high   very_high   5more      2     big   high  unacceptable"
      ]
     },
     "execution_count": 2,
     "metadata": {},
     "output_type": "execute_result"
    }
   ],
   "source": [
    "import pandas as pd\n",
    "import seaborn as sns\n",
    "sns.set_style(\"darkgrid\")\n",
    "\n",
    "base_path = \"/home/vishal/datasets/exams/Infrrd/\"\n",
    "train_path = base_path+\"train.csv\"\n",
    "test_path =  base_path+\"test.csv\"\n",
    "\n",
    "dataset = pd.read_csv(train_path)\n",
    "dataset.head()"
   ]
  },
  {
   "cell_type": "code",
   "execution_count": 3,
   "metadata": {},
   "outputs": [
    {
     "data": {
      "text/plain": [
       "purchasing_cost    object\n",
       "repair_cost        object\n",
       "windows            object\n",
       "people             object\n",
       "space              object\n",
       "safety             object\n",
       "label              object\n",
       "dtype: object"
      ]
     },
     "execution_count": 3,
     "metadata": {},
     "output_type": "execute_result"
    }
   ],
   "source": [
    "# Exploratory Analysis\n",
    "\n",
    "dataset.dtypes  # all are categorical feature\n"
   ]
  },
  {
   "cell_type": "code",
   "execution_count": 4,
   "metadata": {},
   "outputs": [
    {
     "data": {
      "text/html": [
       "<div>\n",
       "<style scoped>\n",
       "    .dataframe tbody tr th:only-of-type {\n",
       "        vertical-align: middle;\n",
       "    }\n",
       "\n",
       "    .dataframe tbody tr th {\n",
       "        vertical-align: top;\n",
       "    }\n",
       "\n",
       "    .dataframe thead th {\n",
       "        text-align: right;\n",
       "    }\n",
       "</style>\n",
       "<table border=\"1\" class=\"dataframe\">\n",
       "  <thead>\n",
       "    <tr style=\"text-align: right;\">\n",
       "      <th></th>\n",
       "      <th>purchasing_cost</th>\n",
       "      <th>repair_cost</th>\n",
       "      <th>windows</th>\n",
       "      <th>people</th>\n",
       "      <th>space</th>\n",
       "      <th>safety</th>\n",
       "      <th>label</th>\n",
       "    </tr>\n",
       "  </thead>\n",
       "  <tbody>\n",
       "    <tr>\n",
       "      <th>count</th>\n",
       "      <td>1382</td>\n",
       "      <td>1382</td>\n",
       "      <td>1382</td>\n",
       "      <td>1382</td>\n",
       "      <td>1382</td>\n",
       "      <td>1382</td>\n",
       "      <td>1382</td>\n",
       "    </tr>\n",
       "    <tr>\n",
       "      <th>unique</th>\n",
       "      <td>4</td>\n",
       "      <td>4</td>\n",
       "      <td>4</td>\n",
       "      <td>3</td>\n",
       "      <td>3</td>\n",
       "      <td>3</td>\n",
       "      <td>4</td>\n",
       "    </tr>\n",
       "    <tr>\n",
       "      <th>top</th>\n",
       "      <td>low</td>\n",
       "      <td>high</td>\n",
       "      <td>5more</td>\n",
       "      <td>4</td>\n",
       "      <td>big</td>\n",
       "      <td>low</td>\n",
       "      <td>unacceptable</td>\n",
       "    </tr>\n",
       "    <tr>\n",
       "      <th>freq</th>\n",
       "      <td>353</td>\n",
       "      <td>356</td>\n",
       "      <td>354</td>\n",
       "      <td>473</td>\n",
       "      <td>466</td>\n",
       "      <td>468</td>\n",
       "      <td>974</td>\n",
       "    </tr>\n",
       "  </tbody>\n",
       "</table>\n",
       "</div>"
      ],
      "text/plain": [
       "       purchasing_cost repair_cost windows people space safety         label\n",
       "count             1382        1382    1382   1382  1382   1382          1382\n",
       "unique               4           4       4      3     3      3             4\n",
       "top                low        high   5more      4   big    low  unacceptable\n",
       "freq               353         356     354    473   466    468           974"
      ]
     },
     "execution_count": 4,
     "metadata": {},
     "output_type": "execute_result"
    }
   ],
   "source": [
    "dataset.describe() \n",
    "# No Null values\n"
   ]
  },
  {
   "cell_type": "code",
   "execution_count": 5,
   "metadata": {},
   "outputs": [
    {
     "data": {
      "text/plain": [
       "<matplotlib.axes._subplots.AxesSubplot at 0x7f188aee1518>"
      ]
     },
     "execution_count": 5,
     "metadata": {},
     "output_type": "execute_result"
    },
    {
     "data": {
      "image/png": "[encoded data removed]",
      "text/plain": [
       "<matplotlib.figure.Figure at 0x7f188af98f98>"
      ]
     },
     "metadata": {},
     "output_type": "display_data"
    }
   ],
   "source": [
    "dataset['purchasing_cost'].value_counts(dropna = False)\n",
    "dataset['purchasing_cost'].value_counts(dropna = False).head(10).plot.bar()"
   ]
  },
  {
   "cell_type": "code",
   "execution_count": 6,
   "metadata": {},
   "outputs": [
    {
     "data": {
      "text/plain": [
       "<matplotlib.axes._subplots.AxesSubplot at 0x7f188af98ef0>"
      ]
     },
     "execution_count": 6,
     "metadata": {},
     "output_type": "execute_result"
    },
    {
     "data": {
      "image/png": "[encoded data removed]",
      "text/plain": [
       "<matplotlib.figure.Figure at 0x7f1888e9a2e8>"
      ]
     },
     "metadata": {},
     "output_type": "display_data"
    }
   ],
   "source": [
    "#dataset['repair_cost'].value_counts(dropna = False)\n",
    "dataset['repair_cost'].value_counts(dropna = False).head(10).plot.bar()"
   ]
  },
  {
   "cell_type": "code",
   "execution_count": 11,
   "metadata": {},
   "outputs": [
    {
     "data": {
      "text/plain": [
       "<matplotlib.axes._subplots.AxesSubplot at 0xb28def0>"
      ]
     },
     "execution_count": 11,
     "metadata": {},
     "output_type": "execute_result"
    },
    {
     "data": {
      "image/png": "[encoded data removed]",
      "text/plain": [
       "<Figure size 432x288 with 1 Axes>"
      ]
     },
     "metadata": {},
     "output_type": "display_data"
    }
   ],
   "source": [
    "#dataset['windows'].value_counts(dropna = False)\n",
    "dataset['windows'].value_counts(dropna = False).plot.bar()"
   ]
  },
  {
   "cell_type": "code",
   "execution_count": 12,
   "metadata": {},
   "outputs": [
    {
     "data": {
      "text/plain": [
       "<matplotlib.axes._subplots.AxesSubplot at 0xb51b6d8>"
      ]
     },
     "execution_count": 12,
     "metadata": {},
     "output_type": "execute_result"
    },
    {
     "data": {
      "image/png": "[encoded data removed]",
      "text/plain": [
       "<Figure size 432x288 with 1 Axes>"
      ]
     },
     "metadata": {},
     "output_type": "display_data"
    }
   ],
   "source": [
    "#dataset['people'].value_counts(dropna = False)\n",
    "dataset['people'].value_counts(dropna = False).plot.bar()"
   ]
  },
  {
   "cell_type": "code",
   "execution_count": 13,
   "metadata": {},
   "outputs": [
    {
     "data": {
      "text/plain": [
       "<matplotlib.axes._subplots.AxesSubplot at 0xb562390>"
      ]
     },
     "execution_count": 13,
     "metadata": {},
     "output_type": "execute_result"
    },
    {
     "data": {
      "image/png": "[encoded data removed]",
      "text/plain": [
       "<Figure size 432x288 with 1 Axes>"
      ]
     },
     "metadata": {},
     "output_type": "display_data"
    }
   ],
   "source": [
    "dataset['space'].value_counts(dropna = False)\n",
    "dataset['space'].value_counts(dropna = False).plot.bar()"
   ]
  },
  {
   "cell_type": "code",
   "execution_count": 7,
   "metadata": {},
   "outputs": [
    {
     "data": {
      "text/plain": [
       "<matplotlib.axes._subplots.AxesSubplot at 0x7f1888e44518>"
      ]
     },
     "execution_count": 7,
     "metadata": {},
     "output_type": "execute_result"
    },
    {
     "data": {
      "image/png": "[encoded data removed]",
      "text/plain": [
       "<matplotlib.figure.Figure at 0x7f1888e3a860>"
      ]
     },
     "metadata": {},
     "output_type": "display_data"
    }
   ],
   "source": [
    "dataset['safety'].value_counts(dropna = False)\n",
    "dataset['safety'].value_counts(dropna = False).plot.bar()"
   ]
  },
  {
   "cell_type": "code",
   "execution_count": 15,
   "metadata": {},
   "outputs": [
    {
     "data": {
      "text/plain": [
       "<matplotlib.axes._subplots.AxesSubplot at 0x9d0c0b8>"
      ]
     },
     "execution_count": 15,
     "metadata": {},
     "output_type": "execute_result"
    },
    {
     "data": {
      "image/png": "[encoded data removed]",
      "text/plain": [
       "<Figure size 432x288 with 1 Axes>"
      ]
     },
     "metadata": {},
     "output_type": "display_data"
    }
   ],
   "source": [
    "dataset['label'].value_counts(dropna = False) # Data is Not balanced\n",
    "dataset['label'].value_counts(dropna = False).plot.bar()"
   ]
  },
  {
   "cell_type": "code",
   "execution_count": 8,
   "metadata": {},
   "outputs": [
    {
     "data": {
      "text/html": [
       "<div>\n",
       "<style scoped>\n",
       "    .dataframe tbody tr th:only-of-type {\n",
       "        vertical-align: middle;\n",
       "    }\n",
       "\n",
       "    .dataframe tbody tr th {\n",
       "        vertical-align: top;\n",
       "    }\n",
       "\n",
       "    .dataframe thead th {\n",
       "        text-align: right;\n",
       "    }\n",
       "</style>\n",
       "<table border=\"1\" class=\"dataframe\">\n",
       "  <thead>\n",
       "    <tr style=\"text-align: right;\">\n",
       "      <th></th>\n",
       "      <th>purchasing_cost</th>\n",
       "      <th>repair_cost</th>\n",
       "      <th>windows</th>\n",
       "      <th>people</th>\n",
       "      <th>space</th>\n",
       "      <th>safety</th>\n",
       "      <th>label</th>\n",
       "      <th>pc</th>\n",
       "      <th>rc</th>\n",
       "      <th>win</th>\n",
       "      <th>ppl</th>\n",
       "      <th>spc</th>\n",
       "      <th>lbl</th>\n",
       "    </tr>\n",
       "  </thead>\n",
       "  <tbody>\n",
       "    <tr>\n",
       "      <th>0</th>\n",
       "      <td>high</td>\n",
       "      <td>very_high</td>\n",
       "      <td>5more</td>\n",
       "      <td>more</td>\n",
       "      <td>medium</td>\n",
       "      <td>med</td>\n",
       "      <td>unacceptable</td>\n",
       "      <td>2</td>\n",
       "      <td>3</td>\n",
       "      <td>3</td>\n",
       "      <td>2</td>\n",
       "      <td>1</td>\n",
       "      <td>0</td>\n",
       "    </tr>\n",
       "    <tr>\n",
       "      <th>1</th>\n",
       "      <td>very_high</td>\n",
       "      <td>medium</td>\n",
       "      <td>4</td>\n",
       "      <td>more</td>\n",
       "      <td>big</td>\n",
       "      <td>low</td>\n",
       "      <td>unacceptable</td>\n",
       "      <td>3</td>\n",
       "      <td>1</td>\n",
       "      <td>2</td>\n",
       "      <td>2</td>\n",
       "      <td>2</td>\n",
       "      <td>0</td>\n",
       "    </tr>\n",
       "    <tr>\n",
       "      <th>2</th>\n",
       "      <td>medium</td>\n",
       "      <td>medium</td>\n",
       "      <td>5more</td>\n",
       "      <td>4</td>\n",
       "      <td>medium</td>\n",
       "      <td>low</td>\n",
       "      <td>unacceptable</td>\n",
       "      <td>1</td>\n",
       "      <td>1</td>\n",
       "      <td>3</td>\n",
       "      <td>1</td>\n",
       "      <td>1</td>\n",
       "      <td>0</td>\n",
       "    </tr>\n",
       "    <tr>\n",
       "      <th>3</th>\n",
       "      <td>high</td>\n",
       "      <td>high</td>\n",
       "      <td>2</td>\n",
       "      <td>more</td>\n",
       "      <td>medium</td>\n",
       "      <td>high</td>\n",
       "      <td>acceptable</td>\n",
       "      <td>2</td>\n",
       "      <td>2</td>\n",
       "      <td>0</td>\n",
       "      <td>2</td>\n",
       "      <td>1</td>\n",
       "      <td>1</td>\n",
       "    </tr>\n",
       "    <tr>\n",
       "      <th>4</th>\n",
       "      <td>high</td>\n",
       "      <td>very_high</td>\n",
       "      <td>5more</td>\n",
       "      <td>2</td>\n",
       "      <td>big</td>\n",
       "      <td>high</td>\n",
       "      <td>unacceptable</td>\n",
       "      <td>2</td>\n",
       "      <td>3</td>\n",
       "      <td>3</td>\n",
       "      <td>0</td>\n",
       "      <td>2</td>\n",
       "      <td>0</td>\n",
       "    </tr>\n",
       "  </tbody>\n",
       "</table>\n",
       "</div>"
      ],
      "text/plain": [
       "  purchasing_cost repair_cost windows people   space safety         label  pc  \\\n",
       "0            high   very_high   5more   more  medium    med  unacceptable   2   \n",
       "1       very_high      medium       4   more     big    low  unacceptable   3   \n",
       "2          medium      medium   5more      4  medium    low  unacceptable   1   \n",
       "3            high        high       2   more  medium   high    acceptable   2   \n",
       "4            high   very_high   5more      2     big   high  unacceptable   2   \n",
       "\n",
       "   rc  win  ppl  spc  lbl  \n",
       "0   3    3    2    1    0  \n",
       "1   1    2    2    2    0  \n",
       "2   1    3    1    1    0  \n",
       "3   2    0    2    1    1  \n",
       "4   3    3    0    2    0  "
      ]
     },
     "execution_count": 8,
     "metadata": {},
     "output_type": "execute_result"
    }
   ],
   "source": [
    "# level encodeders\n",
    "\n",
    "def label_encoder(val, col_dict):\n",
    "    return col_dict[val]\n",
    "\n",
    "pc_dict = {'low':1, 'medium':2, 'high': 3, 'very_high': 4}\n",
    "dataset['pc'] = dataset['purchasing_cost'].apply(label_encoder, args = (pc_dict,))\n",
    "\n",
    "rc_dict = {'low':1, 'medium':2, 'high': 3, 'very_high': 4}\n",
    "dataset['rc'] = dataset['repair_cost'].apply(label_encoder, args = (rc_dict,))\n",
    "\n",
    "windows_dict = {'2':2, '3':3, '4':4, '5more': 5}\n",
    "dataset['win'] = dataset['windows'].apply(label_encoder, args = (windows_dict,))\n",
    "\n",
    "people_dict = {'2':2, '4':4, 'more': 6}\n",
    "dataset['ppl'] = dataset['people'].apply(label_encoder, args = (people_dict,))\n",
    "\n",
    "space_dict = {'small':1, 'medium':2, 'big': 3}\n",
    "dataset['spc'] = dataset['space'].apply(label_encoder, args = (space_dict,))\n",
    "\n",
    "label_dict = {'unacceptable':1, 'acceptable':2, 'good': 3, 'very_good':4}\n",
    "dataset['lbl'] = dataset['label'].apply(label_encoder, args = (label_dict,))\n",
    "\n",
    "dataset.head()"
   ]
  },
  {
   "cell_type": "code",
   "execution_count": 10,
   "metadata": {},
   "outputs": [
    {
     "data": {
      "text/html": [
       "<div>\n",
       "<style scoped>\n",
       "    .dataframe tbody tr th:only-of-type {\n",
       "        vertical-align: middle;\n",
       "    }\n",
       "\n",
       "    .dataframe tbody tr th {\n",
       "        vertical-align: top;\n",
       "    }\n",
       "\n",
       "    .dataframe thead th {\n",
       "        text-align: right;\n",
       "    }\n",
       "</style>\n",
       "<table border=\"1\" class=\"dataframe\">\n",
       "  <thead>\n",
       "    <tr style=\"text-align: right;\">\n",
       "      <th></th>\n",
       "      <th>pc</th>\n",
       "      <th>rc</th>\n",
       "      <th>win</th>\n",
       "      <th>ppl</th>\n",
       "      <th>spc</th>\n",
       "      <th>lbl</th>\n",
       "    </tr>\n",
       "  </thead>\n",
       "  <tbody>\n",
       "    <tr>\n",
       "      <th>pc</th>\n",
       "      <td>1.000000</td>\n",
       "      <td>0.009392</td>\n",
       "      <td>-0.014983</td>\n",
       "      <td>0.002779</td>\n",
       "      <td>0.003906</td>\n",
       "      <td>-0.238156</td>\n",
       "    </tr>\n",
       "    <tr>\n",
       "      <th>rc</th>\n",
       "      <td>0.009392</td>\n",
       "      <td>1.000000</td>\n",
       "      <td>0.007743</td>\n",
       "      <td>-0.000593</td>\n",
       "      <td>0.000871</td>\n",
       "      <td>-0.197291</td>\n",
       "    </tr>\n",
       "    <tr>\n",
       "      <th>win</th>\n",
       "      <td>-0.014983</td>\n",
       "      <td>0.007743</td>\n",
       "      <td>1.000000</td>\n",
       "      <td>-0.001046</td>\n",
       "      <td>0.025910</td>\n",
       "      <td>0.070634</td>\n",
       "    </tr>\n",
       "    <tr>\n",
       "      <th>ppl</th>\n",
       "      <td>0.002779</td>\n",
       "      <td>-0.000593</td>\n",
       "      <td>-0.001046</td>\n",
       "      <td>1.000000</td>\n",
       "      <td>0.030665</td>\n",
       "      <td>0.393119</td>\n",
       "    </tr>\n",
       "    <tr>\n",
       "      <th>spc</th>\n",
       "      <td>0.003906</td>\n",
       "      <td>0.000871</td>\n",
       "      <td>0.025910</td>\n",
       "      <td>0.030665</td>\n",
       "      <td>1.000000</td>\n",
       "      <td>0.141323</td>\n",
       "    </tr>\n",
       "    <tr>\n",
       "      <th>lbl</th>\n",
       "      <td>-0.238156</td>\n",
       "      <td>-0.197291</td>\n",
       "      <td>0.070634</td>\n",
       "      <td>0.393119</td>\n",
       "      <td>0.141323</td>\n",
       "      <td>1.000000</td>\n",
       "    </tr>\n",
       "  </tbody>\n",
       "</table>\n",
       "</div>"
      ],
      "text/plain": [
       "           pc        rc       win       ppl       spc       lbl\n",
       "pc   1.000000  0.009392 -0.014983  0.002779  0.003906 -0.238156\n",
       "rc   0.009392  1.000000  0.007743 -0.000593  0.000871 -0.197291\n",
       "win -0.014983  0.007743  1.000000 -0.001046  0.025910  0.070634\n",
       "ppl  0.002779 -0.000593 -0.001046  1.000000  0.030665  0.393119\n",
       "spc  0.003906  0.000871  0.025910  0.030665  1.000000  0.141323\n",
       "lbl -0.238156 -0.197291  0.070634  0.393119  0.141323  1.000000"
      ]
     },
     "execution_count": 10,
     "metadata": {},
     "output_type": "execute_result"
    }
   ],
   "source": [
    "# Correlation cofficient matrix \n",
    "data_vec = dataset[['pc', 'rc','win', 'ppl', 'spc', 'lbl']]\n",
    "data_vec.corr(method= 'spearman')"
   ]
  },
  {
   "cell_type": "code",
   "execution_count": 13,
   "metadata": {},
   "outputs": [],
   "source": [
    "# data selection round 1\n",
    "from sklearn.model_selection import train_test_split\n",
    "y = data_vec['lbl']\n",
    "X  = data_vec[['win', 'ppl', 'spc']]\n",
    "X.head()\n",
    "\n",
    "X_train, X_test, y_train, y_test = train_test_split(X, y, test_size=0.20, random_state=1)"
   ]
  },
  {
   "cell_type": "code",
   "execution_count": 16,
   "metadata": {},
   "outputs": [
    {
     "data": {
      "text/plain": [
       "0.6534296028880866"
      ]
     },
     "execution_count": 16,
     "metadata": {},
     "output_type": "execute_result"
    }
   ],
   "source": [
    "# Round 1\n",
    "from sklearn.ensemble import RandomForestClassifier\n",
    "clf = RandomForestClassifier(random_state=0)\n",
    "clf.fit(X_train,y_train)\n",
    "#clf.feature_importances_\n",
    "#clf.score(X_train, y_train)\n",
    "clf.score(X_test, y_test)\n"
   ]
  },
  {
   "cell_type": "code",
   "execution_count": 18,
   "metadata": {},
   "outputs": [
    {
     "data": {
      "text/plain": [
       "0.7031674208144797"
      ]
     },
     "execution_count": 18,
     "metadata": {},
     "output_type": "execute_result"
    }
   ],
   "source": [
    "# round 2\n",
    "from sklearn.svm import LinearSVC\n",
    "clf_svm = LinearSVC(random_state=0)\n",
    "clf_svm.fit(X_train, y_train)\n",
    "clf_svm.score(X_train, y_train)\n",
    "\n",
    "from sklearn import svm\n",
    "clf_mlticlass = svm.SVC(decision_function_shape='ovo')\n",
    "clf_mlticlass.fit(X_train,y_train)\n",
    "clf_mlticlass.score(X_train, y_train)"
   ]
  },
  {
   "cell_type": "code",
   "execution_count": 40,
   "metadata": {},
   "outputs": [],
   "source": []
  },
  {
   "cell_type": "code",
   "execution_count": null,
   "metadata": {},
   "outputs": [],
   "source": []
  }
 ],
 "metadata": {
  "kernelspec": {
   "display_name": "Python 3",
   "language": "python",
   "name": "python3"
  },
  "language_info": {
   "codemirror_mode": {
    "name": "ipython",
    "version": 3
   },
   "file_extension": ".py",
   "mimetype": "text/x-python",
   "name": "python",
   "nbconvert_exporter": "python",
   "pygments_lexer": "ipython3",
   "version": "3.6.4"
  }
 },
 "nbformat": 4,
 "nbformat_minor": 2
}
