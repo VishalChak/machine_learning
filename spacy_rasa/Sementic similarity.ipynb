{
 "cells": [
  {
   "cell_type": "code",
   "execution_count": 1,
   "metadata": {},
   "outputs": [],
   "source": [
    "import pandas as pd\n",
    "import spacy\n",
    "nlp = spacy.load('en')"
   ]
  },
  {
   "cell_type": "code",
   "execution_count": 2,
   "metadata": {},
   "outputs": [],
   "source": [
    "base_path = \"C:\\\\Users\\\\vbabu\\\\MStar\\\\Datasets\\\\BBC-Dataset-News-Classification\\\\dataset\\\\\"\n",
    "train_path = base_path+\"dataset.csv\"\n",
    "dataset = pd.read_csv(train_path, encoding = \"ISO-8859-1\")"
   ]
  },
  {
   "cell_type": "code",
   "execution_count": 3,
   "metadata": {},
   "outputs": [
    {
     "data": {
      "text/html": [
       "<div>\n",
       "<style scoped>\n",
       "    .dataframe tbody tr th:only-of-type {\n",
       "        vertical-align: middle;\n",
       "    }\n",
       "\n",
       "    .dataframe tbody tr th {\n",
       "        vertical-align: top;\n",
       "    }\n",
       "\n",
       "    .dataframe thead th {\n",
       "        text-align: right;\n",
       "    }\n",
       "</style>\n",
       "<table border=\"1\" class=\"dataframe\">\n",
       "  <thead>\n",
       "    <tr style=\"text-align: right;\">\n",
       "      <th></th>\n",
       "      <th>news</th>\n",
       "      <th>type</th>\n",
       "    </tr>\n",
       "  </thead>\n",
       "  <tbody>\n",
       "    <tr>\n",
       "      <th>0</th>\n",
       "      <td>China had role in Yukos split-up\\r\\n \\r\\n Chin...</td>\n",
       "      <td>business</td>\n",
       "    </tr>\n",
       "    <tr>\n",
       "      <th>1</th>\n",
       "      <td>Oil rebounds from weather effect\\r\\n \\r\\n Oil ...</td>\n",
       "      <td>business</td>\n",
       "    </tr>\n",
       "    <tr>\n",
       "      <th>2</th>\n",
       "      <td>Indonesia 'declines debt freeze'\\r\\n \\r\\n Indo...</td>\n",
       "      <td>business</td>\n",
       "    </tr>\n",
       "    <tr>\n",
       "      <th>3</th>\n",
       "      <td>$1m payoff for former Shell boss\\r\\n \\r\\n Shel...</td>\n",
       "      <td>business</td>\n",
       "    </tr>\n",
       "    <tr>\n",
       "      <th>4</th>\n",
       "      <td>US bank in $515m SEC settlement\\r\\n \\r\\n Five ...</td>\n",
       "      <td>business</td>\n",
       "    </tr>\n",
       "  </tbody>\n",
       "</table>\n",
       "</div>"
      ],
      "text/plain": [
       "                                                news      type\n",
       "0  China had role in Yukos split-up\\r\\n \\r\\n Chin...  business\n",
       "1  Oil rebounds from weather effect\\r\\n \\r\\n Oil ...  business\n",
       "2  Indonesia 'declines debt freeze'\\r\\n \\r\\n Indo...  business\n",
       "3  $1m payoff for former Shell boss\\r\\n \\r\\n Shel...  business\n",
       "4  US bank in $515m SEC settlement\\r\\n \\r\\n Five ...  business"
      ]
     },
     "execution_count": 3,
     "metadata": {},
     "output_type": "execute_result"
    }
   ],
   "source": [
    "dataset.head()"
   ]
  },
  {
   "cell_type": "code",
   "execution_count": 4,
   "metadata": {},
   "outputs": [
    {
     "data": {
      "text/plain": [
       "1.0"
      ]
     },
     "execution_count": 4,
     "metadata": {},
     "output_type": "execute_result"
    }
   ],
   "source": [
    "doc1 = nlp('dog')\n",
    "doc2 = nlp('cat')\n",
    "doc1.similarity(doc1)"
   ]
  },
  {
   "cell_type": "code",
   "execution_count": 5,
   "metadata": {},
   "outputs": [
    {
     "data": {
      "text/plain": [
       "0.8051824832875271"
      ]
     },
     "execution_count": 5,
     "metadata": {},
     "output_type": "execute_result"
    }
   ],
   "source": [
    "doc3 = nlp('smart')\n",
    "doc4 = nlp('clever')\n",
    "doc3.similarity(doc4)"
   ]
  },
  {
   "cell_type": "code",
   "execution_count": 6,
   "metadata": {},
   "outputs": [
    {
     "data": {
      "text/plain": [
       "1.0"
      ]
     },
     "execution_count": 6,
     "metadata": {},
     "output_type": "execute_result"
    }
   ],
   "source": [
    "doc5 = nlp('smart')\n",
    "doc6 = nlp('smart')\n",
    "doc5.similarity(doc6)"
   ]
  },
  {
   "cell_type": "code",
   "execution_count": 7,
   "metadata": {},
   "outputs": [
    {
     "name": "stdout",
     "output_type": "stream",
     "text": [
      "('wolf', 'wolf') similarity=> 1.0\n",
      "('wolf', 'dog') similarity=> 0.5234998\n",
      "('wolf', 'cat') similarity=> 0.30953422\n",
      "('wolf', 'bird') similarity=> 0.52796584\n",
      "('wolf', 'fish') similarity=> 0.05131726\n",
      "('dog', 'wolf') similarity=> 0.5234998\n",
      "('dog', 'dog') similarity=> 1.0\n",
      "('dog', 'cat') similarity=> 0.6250718\n",
      "('dog', 'bird') similarity=> 0.4794653\n",
      "('dog', 'fish') similarity=> 0.32915172\n",
      "('cat', 'wolf') similarity=> 0.30953422\n",
      "('cat', 'dog') similarity=> 0.6250718\n",
      "('cat', 'cat') similarity=> 1.0\n",
      "('cat', 'bird') similarity=> 0.4474157\n",
      "('cat', 'fish') similarity=> 0.447517\n",
      "('bird', 'wolf') similarity=> 0.52796584\n",
      "('bird', 'dog') similarity=> 0.4794653\n",
      "('bird', 'cat') similarity=> 0.4474157\n",
      "('bird', 'bird') similarity=> 1.0\n",
      "('bird', 'fish') similarity=> 0.35412994\n",
      "('fish', 'wolf') similarity=> 0.05131726\n",
      "('fish', 'dog') similarity=> 0.32915172\n",
      "('fish', 'cat') similarity=> 0.447517\n",
      "('fish', 'bird') similarity=> 0.35412994\n",
      "('fish', 'fish') similarity=> 1.0\n"
     ]
    }
   ],
   "source": [
    "ex1 = nlp ('wolf dog cat bird fish')\n",
    "for tkn1 in ex1:\n",
    "    for tkn2 in ex1:\n",
    "        print((tkn1.text, tkn2.text), 'similarity=>', tkn1.similarity(tkn2))"
   ]
  },
  {
   "cell_type": "code",
   "execution_count": 10,
   "metadata": {},
   "outputs": [],
   "source": [
    "# creating pandas data frame \n",
    "\n",
    "sim_list = [(tkn1.text, tkn2.text, tkn1.similarity(tkn2)) for tkn2 in ex1 for tkn1 in ex1]"
   ]
  },
  {
   "cell_type": "code",
   "execution_count": 12,
   "metadata": {},
   "outputs": [
    {
     "data": {
      "text/html": [
       "<div>\n",
       "<style scoped>\n",
       "    .dataframe tbody tr th:only-of-type {\n",
       "        vertical-align: middle;\n",
       "    }\n",
       "\n",
       "    .dataframe tbody tr th {\n",
       "        vertical-align: top;\n",
       "    }\n",
       "\n",
       "    .dataframe thead th {\n",
       "        text-align: right;\n",
       "    }\n",
       "</style>\n",
       "<table border=\"1\" class=\"dataframe\">\n",
       "  <thead>\n",
       "    <tr style=\"text-align: right;\">\n",
       "      <th></th>\n",
       "      <th>tkn1</th>\n",
       "      <th>tkn2</th>\n",
       "      <th>similarity</th>\n",
       "    </tr>\n",
       "  </thead>\n",
       "  <tbody>\n",
       "    <tr>\n",
       "      <th>0</th>\n",
       "      <td>wolf</td>\n",
       "      <td>wolf</td>\n",
       "      <td>1.000000</td>\n",
       "    </tr>\n",
       "    <tr>\n",
       "      <th>1</th>\n",
       "      <td>dog</td>\n",
       "      <td>wolf</td>\n",
       "      <td>0.523500</td>\n",
       "    </tr>\n",
       "    <tr>\n",
       "      <th>2</th>\n",
       "      <td>cat</td>\n",
       "      <td>wolf</td>\n",
       "      <td>0.309534</td>\n",
       "    </tr>\n",
       "    <tr>\n",
       "      <th>3</th>\n",
       "      <td>bird</td>\n",
       "      <td>wolf</td>\n",
       "      <td>0.527966</td>\n",
       "    </tr>\n",
       "    <tr>\n",
       "      <th>4</th>\n",
       "      <td>fish</td>\n",
       "      <td>wolf</td>\n",
       "      <td>0.051317</td>\n",
       "    </tr>\n",
       "  </tbody>\n",
       "</table>\n",
       "</div>"
      ],
      "text/plain": [
       "   tkn1  tkn2  similarity\n",
       "0  wolf  wolf    1.000000\n",
       "1   dog  wolf    0.523500\n",
       "2   cat  wolf    0.309534\n",
       "3  bird  wolf    0.527966\n",
       "4  fish  wolf    0.051317"
      ]
     },
     "execution_count": 12,
     "metadata": {},
     "output_type": "execute_result"
    }
   ],
   "source": [
    "data = pd.DataFrame(sim_list, columns=['tkn1', 'tkn2', 'similarity'])\n",
    "data.head()"
   ]
  },
  {
   "cell_type": "code",
   "execution_count": 19,
   "metadata": {},
   "outputs": [],
   "source": [
    "df = data.replace({'fish':0, 'dog':1, 'cat':2,'wolf': 3, 'bird':4})\n"
   ]
  },
  {
   "cell_type": "code",
   "execution_count": 20,
   "metadata": {},
   "outputs": [],
   "source": [
    "import matplotlib.pyplot as plt\n",
    "import seaborn as sns\n",
    "%matplotlib inline"
   ]
  },
  {
   "cell_type": "code",
   "execution_count": 26,
   "metadata": {},
   "outputs": [
    {
     "data": {
      "image/png": "[encoded data removed]",
      "text/plain": [
       "<Figure size 1440x720 with 2 Axes>"
      ]
     },
     "metadata": {
      "needs_background": "light"
     },
     "output_type": "display_data"
    }
   ],
   "source": [
    "plt.figure(figsize=(20,10))\n",
    "sns.heatmap(df.corr(), annot = True)\n",
    "plt.show()"
   ]
  },
  {
   "cell_type": "code",
   "execution_count": null,
   "metadata": {},
   "outputs": [],
   "source": []
  }
 ],
 "metadata": {
  "kernelspec": {
   "display_name": "Python 3",
   "language": "python",
   "name": "python3"
  },
  "language_info": {
   "codemirror_mode": {
    "name": "ipython",
    "version": 3
   },
   "file_extension": ".py",
   "mimetype": "text/x-python",
   "name": "python",
   "nbconvert_exporter": "python",
   "pygments_lexer": "ipython3",
   "version": "3.6.6"
  }
 },
 "nbformat": 4,
 "nbformat_minor": 2
}
