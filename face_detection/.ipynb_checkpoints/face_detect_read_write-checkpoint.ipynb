{
 "cells": [
  {
   "cell_type": "code",
   "execution_count": 40,
   "metadata": {},
   "outputs": [],
   "source": [
    "import cv2\n",
    "import os\n",
    "import glob"
   ]
  },
  {
   "cell_type": "code",
   "execution_count": 41,
   "metadata": {},
   "outputs": [],
   "source": [
    "def cascade_detect(cascade, image):\n",
    "    gray_image = cv2.cvtColor(image, cv2.COLOR_BGR2GRAY)\n",
    "    faces = cascade.detectMultiScale( gray_image, scaleFactor = 1.15, minNeighbors = 5, minSize = (30, 30), flags = cv2.CASCADE_SCALE_IMAGE)\n",
    "    #print (\"Found faces {0}\".format(len(faces)))\n",
    "    return faces"
   ]
  },
  {
   "cell_type": "code",
   "execution_count": 42,
   "metadata": {},
   "outputs": [],
   "source": [
    "def detections_draw(image, faces):\n",
    "    for (x, y, w, h) in faces:\n",
    "        #print (\"({0}, {1}, {2}, {3})\".format(x, y, w, h))\n",
    "        cv2.rectangle(image, (x, y), (x + w, y + h), (0, 255, 0), 2)\n",
    "    return image"
   ]
  },
  {
   "cell_type": "code",
   "execution_count": 43,
   "metadata": {},
   "outputs": [
    {
     "data": {
      "text/plain": [
       "'base_path = os.getcwd()\\nimage_name = \"komal.jpg\"\\n\\ncascPath = os.path.join(base_path, \"haarcascade_frontalface_default.xml\")\\nimagePath =  os.path.join(base_path, image_name)\\nfaceCascade = cv2.CascadeClassifier(cascPath)\\n\\nimage = cv2.imread(imagePath)\\nfaces = cascade_detect(faceCascade, image)\\nimage = detections_draw(image, faces)\\n\\ncv2.imshow(\"Faces found\", image)\\ncv2.waitKey(0)'"
      ]
     },
     "execution_count": 43,
     "metadata": {},
     "output_type": "execute_result"
    }
   ],
   "source": [
    "'''base_path = os.getcwd()\n",
    "image_name = \"komal.jpg\"\n",
    "\n",
    "cascPath = os.path.join(base_path, \"haarcascade_frontalface_default.xml\")\n",
    "imagePath =  os.path.join(base_path, image_name)\n",
    "faceCascade = cv2.CascadeClassifier(cascPath)\n",
    "\n",
    "image = cv2.imread(imagePath)\n",
    "faces = cascade_detect(faceCascade, image)\n",
    "image = detections_draw(image, faces)\n",
    "\n",
    "cv2.imshow(\"Faces found\", image)\n",
    "cv2.waitKey(0)'''\n"
   ]
  },
  {
   "cell_type": "code",
   "execution_count": 46,
   "metadata": {},
   "outputs": [
    {
     "name": "stdout",
     "output_type": "stream",
     "text": [
      "Done!!! Please check output folder \n"
     ]
    }
   ],
   "source": [
    "if __name__ == \"__main__\":\n",
    "    base_path = os.getcwd()\n",
    "    input_path = os.path.join(base_path, 'images_input')\n",
    "    \n",
    "    cascPath = os.path.join(base_path, \"haarcascade_frontalface_default.xml\")\n",
    "    faceCascade = cv2.CascadeClassifier(cascPath)\n",
    "    \n",
    "    for img in os.listdir(input_path):\n",
    "        image_path = os.path.join(input_path,img)\n",
    "        #print(image_path)\n",
    "        image = cv2.imread(image_path)\n",
    "        faces = cascade_detect(faceCascade, image)\n",
    "        image = detections_draw(image, faces)\n",
    "        #print(os.path.join(base_path,'images_output', \"detected_\" +img))\n",
    "        #cv2.imshow(\"Faces found\", image)\n",
    "        #cv2.waitKey(0)\n",
    "        #cv2.imwrite(os.path.join(base_path,'images_output', \"detected_\" + img), image)\n",
    "    print('Done!!! Please check output folder ')\n",
    "    "
   ]
  },
  {
   "cell_type": "code",
   "execution_count": null,
   "metadata": {},
   "outputs": [],
   "source": []
  }
 ],
 "metadata": {
  "kernelspec": {
   "display_name": "Python 3",
   "language": "python",
   "name": "python3"
  },
  "language_info": {
   "codemirror_mode": {
    "name": "ipython",
    "version": 3
   },
   "file_extension": ".py",
   "mimetype": "text/x-python",
   "name": "python",
   "nbconvert_exporter": "python",
   "pygments_lexer": "ipython3",
   "version": "3.6.6"
  }
 },
 "nbformat": 4,
 "nbformat_minor": 2
}
