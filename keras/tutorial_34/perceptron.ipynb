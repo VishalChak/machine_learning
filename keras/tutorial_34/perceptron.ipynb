{
 "cells": [
  {
   "cell_type": "code",
   "execution_count": 27,
   "metadata": {},
   "outputs": [],
   "source": [
    "import keras\n",
    "from keras import backend as k\n",
    "from keras.models import Sequential\n",
    "from keras.layers import Activation\n",
    "from keras.layers.core import Dense\n",
    "from keras.optimizers import Adam\n",
    "from keras.metrics import categorical_crossentropy"
   ]
  },
  {
   "cell_type": "code",
   "execution_count": 28,
   "metadata": {},
   "outputs": [],
   "source": [
    "model = Sequential([Dense(16, input_shape= (1,), activation='relu'),\n",
    "                   Dense(32,activation = 'relu'),\n",
    "                   Dense(2, activation = 'softmax')])"
   ]
  },
  {
   "cell_type": "code",
   "execution_count": 29,
   "metadata": {},
   "outputs": [
    {
     "name": "stdout",
     "output_type": "stream",
     "text": [
      "_________________________________________________________________\n",
      "Layer (type)                 Output Shape              Param #   \n",
      "=================================================================\n",
      "dense_7 (Dense)              (None, 16)                32        \n",
      "_________________________________________________________________\n",
      "dense_8 (Dense)              (None, 32)                544       \n",
      "_________________________________________________________________\n",
      "dense_9 (Dense)              (None, 2)                 66        \n",
      "=================================================================\n",
      "Total params: 642\n",
      "Trainable params: 642\n",
      "Non-trainable params: 0\n",
      "_________________________________________________________________\n"
     ]
    }
   ],
   "source": [
    "model.summary()"
   ]
  },
  {
   "cell_type": "code",
   "execution_count": 30,
   "metadata": {},
   "outputs": [],
   "source": [
    "model.compile(Adam(lr = 0.0001), loss = 'sparse_categorical_crossentropy', metrics=['accuracy'])"
   ]
  },
  {
   "cell_type": "code",
   "execution_count": 31,
   "metadata": {},
   "outputs": [],
   "source": [
    "from preprocessinf_1 import get_data\n",
    "X,y = get_data()"
   ]
  },
  {
   "cell_type": "code",
   "execution_count": 32,
   "metadata": {},
   "outputs": [
    {
     "name": "stdout",
     "output_type": "stream",
     "text": [
      "Epoch 1/20\n",
      " - 0s - loss: 0.6860 - acc: 0.5752\n",
      "Epoch 2/20\n",
      " - 0s - loss: 0.6583 - acc: 0.5848\n",
      "Epoch 3/20\n",
      " - 0s - loss: 0.6293 - acc: 0.6467\n",
      "Epoch 4/20\n",
      " - 0s - loss: 0.5957 - acc: 0.7162\n",
      "Epoch 5/20\n",
      " - 0s - loss: 0.5581 - acc: 0.7619\n",
      "Epoch 6/20\n",
      " - 0s - loss: 0.5263 - acc: 0.8033\n",
      "Epoch 7/20\n",
      " - 0s - loss: 0.4960 - acc: 0.8214\n",
      "Epoch 8/20\n",
      " - 0s - loss: 0.4676 - acc: 0.8414\n",
      "Epoch 9/20\n",
      " - 0s - loss: 0.4412 - acc: 0.8571\n",
      "Epoch 10/20\n",
      " - 0s - loss: 0.4167 - acc: 0.8648\n",
      "Epoch 11/20\n",
      " - 0s - loss: 0.3945 - acc: 0.8829\n",
      "Epoch 12/20\n",
      " - 0s - loss: 0.3747 - acc: 0.8871\n",
      "Epoch 13/20\n",
      " - 0s - loss: 0.3570 - acc: 0.8948\n",
      "Epoch 14/20\n",
      " - 0s - loss: 0.3418 - acc: 0.9033\n",
      "Epoch 15/20\n",
      " - 0s - loss: 0.3288 - acc: 0.9095\n",
      "Epoch 16/20\n",
      " - 0s - loss: 0.3178 - acc: 0.9095\n",
      "Epoch 17/20\n",
      " - 0s - loss: 0.3085 - acc: 0.9171\n",
      "Epoch 18/20\n",
      " - 0s - loss: 0.3007 - acc: 0.9167\n",
      "Epoch 19/20\n",
      " - 0s - loss: 0.2942 - acc: 0.9210\n",
      "Epoch 20/20\n",
      " - 0s - loss: 0.2887 - acc: 0.9224\n"
     ]
    },
    {
     "data": {
      "text/plain": [
       "<keras.callbacks.History at 0x186b7f324a8>"
      ]
     },
     "execution_count": 32,
     "metadata": {},
     "output_type": "execute_result"
    }
   ],
   "source": [
    "model.fit(X,y,batch_size=10, epochs=20,shuffle=True, verbose=2)"
   ]
  },
  {
   "cell_type": "code",
   "execution_count": 26,
   "metadata": {},
   "outputs": [
    {
     "name": "stdout",
     "output_type": "stream",
     "text": [
      "Train on 1890 samples, validate on 210 samples\n",
      "Epoch 1/20\n",
      " - 0s - loss: 0.0274 - acc: 0.9984 - val_loss: 4.8888 - val_acc: 0.5238\n",
      "Epoch 2/20\n",
      " - 0s - loss: 0.0273 - acc: 1.0000 - val_loss: 4.8992 - val_acc: 0.5238\n",
      "Epoch 3/20\n",
      " - 0s - loss: 0.0272 - acc: 0.9989 - val_loss: 4.9118 - val_acc: 0.5238\n",
      "Epoch 4/20\n",
      " - 0s - loss: 0.0270 - acc: 1.0000 - val_loss: 4.9270 - val_acc: 0.5238\n",
      "Epoch 5/20\n",
      " - 0s - loss: 0.0267 - acc: 1.0000 - val_loss: 4.9339 - val_acc: 0.5238\n",
      "Epoch 6/20\n",
      " - 0s - loss: 0.0267 - acc: 1.0000 - val_loss: 4.9581 - val_acc: 0.5238\n",
      "Epoch 7/20\n",
      " - 0s - loss: 0.0266 - acc: 1.0000 - val_loss: 4.9715 - val_acc: 0.5238\n",
      "Epoch 8/20\n",
      " - 0s - loss: 0.0267 - acc: 1.0000 - val_loss: 4.9864 - val_acc: 0.5238\n",
      "Epoch 9/20\n",
      " - 0s - loss: 0.0264 - acc: 1.0000 - val_loss: 5.0014 - val_acc: 0.5238\n",
      "Epoch 10/20\n",
      " - 0s - loss: 0.0264 - acc: 1.0000 - val_loss: 5.0155 - val_acc: 0.5238\n",
      "Epoch 11/20\n",
      " - 0s - loss: 0.0262 - acc: 1.0000 - val_loss: 5.0291 - val_acc: 0.5238\n",
      "Epoch 12/20\n",
      " - 0s - loss: 0.0261 - acc: 1.0000 - val_loss: 5.0483 - val_acc: 0.5238\n",
      "Epoch 13/20\n",
      " - 0s - loss: 0.0262 - acc: 0.9989 - val_loss: 5.0593 - val_acc: 0.5238\n",
      "Epoch 14/20\n",
      " - 0s - loss: 0.0259 - acc: 0.9974 - val_loss: 5.0662 - val_acc: 0.5238\n",
      "Epoch 15/20\n",
      " - 0s - loss: 0.0259 - acc: 0.9989 - val_loss: 5.0839 - val_acc: 0.5238\n",
      "Epoch 16/20\n",
      " - 0s - loss: 0.0257 - acc: 1.0000 - val_loss: 5.1013 - val_acc: 0.5238\n",
      "Epoch 17/20\n",
      " - 0s - loss: 0.0256 - acc: 0.9989 - val_loss: 5.1210 - val_acc: 0.5238\n",
      "Epoch 18/20\n",
      " - 0s - loss: 0.0258 - acc: 1.0000 - val_loss: 5.1307 - val_acc: 0.5238\n",
      "Epoch 19/20\n",
      " - 0s - loss: 0.0257 - acc: 1.0000 - val_loss: 5.1439 - val_acc: 0.5238\n",
      "Epoch 20/20\n",
      " - 0s - loss: 0.0254 - acc: 0.9984 - val_loss: 5.1533 - val_acc: 0.5238\n"
     ]
    },
    {
     "data": {
      "text/plain": [
       "<keras.callbacks.History at 0x186b7f32c50>"
      ]
     },
     "execution_count": 26,
     "metadata": {},
     "output_type": "execute_result"
    }
   ],
   "source": [
    "# make validation set\n",
    "\n",
    "model.fit(X,y, validation_split=0.1, batch_size=10, epochs=20, shuffle=True, verbose=2)"
   ]
  },
  {
   "cell_type": "code",
   "execution_count": null,
   "metadata": {},
   "outputs": [],
   "source": [
    "# Predict "
   ]
  }
 ],
 "metadata": {
  "kernelspec": {
   "display_name": "Python 3",
   "language": "python",
   "name": "python3"
  },
  "language_info": {
   "codemirror_mode": {
    "name": "ipython",
    "version": 3
   },
   "file_extension": ".py",
   "mimetype": "text/x-python",
   "name": "python",
   "nbconvert_exporter": "python",
   "pygments_lexer": "ipython3",
   "version": "3.6.6"
  }
 },
 "nbformat": 4,
 "nbformat_minor": 2
}
