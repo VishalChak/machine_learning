{
 "cells": [
  {
   "cell_type": "code",
   "execution_count": 1,
   "metadata": {},
   "outputs": [],
   "source": [
    "import pandas as pd\n",
    "import spacy"
   ]
  },
  {
   "cell_type": "code",
   "execution_count": 2,
   "metadata": {},
   "outputs": [
    {
     "data": {
      "text/html": [
       "<div>\n",
       "<style scoped>\n",
       "    .dataframe tbody tr th:only-of-type {\n",
       "        vertical-align: middle;\n",
       "    }\n",
       "\n",
       "    .dataframe tbody tr th {\n",
       "        vertical-align: top;\n",
       "    }\n",
       "\n",
       "    .dataframe thead th {\n",
       "        text-align: right;\n",
       "    }\n",
       "</style>\n",
       "<table border=\"1\" class=\"dataframe\">\n",
       "  <thead>\n",
       "    <tr style=\"text-align: right;\">\n",
       "      <th></th>\n",
       "      <th>news</th>\n",
       "      <th>type</th>\n",
       "    </tr>\n",
       "  </thead>\n",
       "  <tbody>\n",
       "    <tr>\n",
       "      <th>0</th>\n",
       "      <td>China had role in Yukos split-up\\n \\n China le...</td>\n",
       "      <td>business</td>\n",
       "    </tr>\n",
       "    <tr>\n",
       "      <th>1</th>\n",
       "      <td>Oil rebounds from weather effect\\n \\n Oil pric...</td>\n",
       "      <td>business</td>\n",
       "    </tr>\n",
       "    <tr>\n",
       "      <th>2</th>\n",
       "      <td>Indonesia 'declines debt freeze'\\n \\n Indonesi...</td>\n",
       "      <td>business</td>\n",
       "    </tr>\n",
       "    <tr>\n",
       "      <th>3</th>\n",
       "      <td>$1m payoff for former Shell boss\\n \\n Shell is...</td>\n",
       "      <td>business</td>\n",
       "    </tr>\n",
       "    <tr>\n",
       "      <th>4</th>\n",
       "      <td>US bank in $515m SEC settlement\\n \\n Five Bank...</td>\n",
       "      <td>business</td>\n",
       "    </tr>\n",
       "  </tbody>\n",
       "</table>\n",
       "</div>"
      ],
      "text/plain": [
       "                                                news      type\n",
       "0  China had role in Yukos split-up\\n \\n China le...  business\n",
       "1  Oil rebounds from weather effect\\n \\n Oil pric...  business\n",
       "2  Indonesia 'declines debt freeze'\\n \\n Indonesi...  business\n",
       "3  $1m payoff for former Shell boss\\n \\n Shell is...  business\n",
       "4  US bank in $515m SEC settlement\\n \\n Five Bank...  business"
      ]
     },
     "execution_count": 2,
     "metadata": {},
     "output_type": "execute_result"
    }
   ],
   "source": [
    "base_path = \"/home/vishal/Datasets/BBC-Dataset-News-Classification/\"\n",
    "train_path = base_path + \"dataset.csv\"\n",
    "dataset = pd.read_csv(train_path, encoding='ISO-8859-1')\n",
    "dataset.head()"
   ]
  },
  {
   "cell_type": "code",
   "execution_count": 3,
   "metadata": {},
   "outputs": [
    {
     "name": "stdout",
     "output_type": "stream",
     "text": [
      "{'herself', 'be', 'otherwise', 'sometimes', 'must', 'them', 'below', 'seems', 'throughout', 'namely', 'our', 'twelve', 'you', 'this', 'had', 'down', 'once', 'yourself', 'did', 'none', 'might', 'back', 'noone', 'were', 'some', 'again', 'becoming', 'those', 'amongst', 'with', 'do', 'are', 'its', 'from', 'alone', 'through', 'mostly', 'whatever', 'may', 'as', 'well', 'above', 'move', 'further', 'about', 'several', 'where', 'among', 'upon', 'anywhere', 'bottom', 'between', 'empty', 'if', 'eight', 'beforehand', 'due', 'nine', 'enough', 'was', 'already', 'every', 'almost', 'much', 'therein', 'they', 'anyone', 'who', 'ever', 'yourselves', 'cannot', 'used', 'everyone', 'during', 'show', 'four', 'my', 'take', 'forty', 'beyond', 'myself', 'others', 'something', 'across', 'is', 'whereas', 'because', 'quite', 'whether', 'been', 'always', 'various', 'him', 'too', 'such', 'the', 'five', 'however', 'regarding', 'after', 'each', 'should', 'except', 'three', 'wherein', 'whither', 'or', 'seem', 'off', 'often', 'even', 'keep', 'sixty', 'what', 'side', 'rather', 'which', 'give', 'i', 'out', 'your', 'formerly', 'just', 'make', 'ten', 'that', 'to', 'against', 'why', 'thru', 'their', 'under', 'made', 'has', 'therefore', 'became', 'per', 're', 'a', 'up', 'we', 'without', 'eleven', 'front', 'name', 'anything', 'third', 'than', 'top', 'becomes', 'us', 'beside', 'how', 'nothing', 'another', 'besides', 'thereby', 'somehow', 'toward', 'since', 'next', 'whole', 'only', 'go', 'thereafter', 'but', 'within', 'fifty', 'over', 'afterwards', 'hers', 'never', 'unless', 'whom', 'nobody', 'whoever', 'latter', 'still', 'of', 'more', 'when', 'everywhere', 'few', 'hereupon', 'on', 'one', 'else', 'ourselves', 'own', 'she', 'somewhere', 'less', 'and', 'see', 'behind', 'no', 'ours', 'please', 'serious', 'does', 'hereby', 'for', 'any', 'someone', 'can', 'yet', 'hereafter', 'amount', 'get', 'into', 'now', 'at', 'until', 'using', 'nor', 'by', 'although', 'call', 'either', 'have', 'while', 'themselves', 'full', 'these', 'most', 'seemed', 'put', 'whereupon', 'itself', 'become', 'though', 'first', 'other', 'hundred', 'latterly', 'last', 'perhaps', 'before', 'thence', 'very', 'via', 'would', 'indeed', 'wherever', 'least', 'then', 'here', 'whereby', 'doing', 'his', 'it', 'an', 'say', 'anyhow', 'thereupon', 'am', 'her', 'being', 'everything', 'whence', 'could', 'same', 'done', 'elsewhere', 'former', 'along', 'around', 'yours', 'there', 'fifteen', 'six', 'all', 'in', 'moreover', 'so', 'meanwhile', 'not', 'sometime', 'whenever', 'two', 'seeming', 'anyway', 'ca', 'onto', 'whose', 'together', 'part', 'many', 'also', 'towards', 'nevertheless', 'really', 'me', 'both', 'thus', 'hence', 'twenty', 'nowhere', 'herein', 'himself', 'neither', 'whereafter', 'will', 'mine', 'he'}\n"
     ]
    }
   ],
   "source": [
    "from spacy.lang.en.stop_words import STOP_WORDS\n",
    "print(STOP_WORDS)"
   ]
  },
  {
   "cell_type": "code",
   "execution_count": 4,
   "metadata": {},
   "outputs": [
    {
     "data": {
      "text/plain": [
       "305"
      ]
     },
     "execution_count": 4,
     "metadata": {},
     "output_type": "execute_result"
    }
   ],
   "source": [
    "len(STOP_WORDS)"
   ]
  },
  {
   "cell_type": "code",
   "execution_count": 5,
   "metadata": {},
   "outputs": [
    {
     "data": {
      "text/plain": [
       "True"
      ]
     },
     "execution_count": 5,
     "metadata": {},
     "output_type": "execute_result"
    }
   ],
   "source": [
    "nlp = spacy.load('en')\n",
    "nlp.vocab['a'].is_stop"
   ]
  },
  {
   "cell_type": "code",
   "execution_count": 6,
   "metadata": {},
   "outputs": [
    {
     "data": {
      "text/plain": [
       "False"
      ]
     },
     "execution_count": 6,
     "metadata": {},
     "output_type": "execute_result"
    }
   ],
   "source": [
    "nlp.vocab['Vishal'].is_stop"
   ]
  },
  {
   "cell_type": "code",
   "execution_count": 7,
   "metadata": {},
   "outputs": [
    {
     "data": {
      "text/plain": [
       "'$1m payoff for former Shell boss\\n \\n Shell is to pay $1m (Â£522,000) to the ex-finance chief who stepped down from her post in April 2004 after the firm over-stated its reserves.\\n \\n Judy Boynton finally left the firm on 31 December, having spent the intervening time as a special advisor to chief executive Jeroen van der Veer. In January 2004, Shell told shocked investors that its reserves were 20% smaller than previously thought. Shell said the pay-off was in line with Ms Boynton\\'s contract. She was leaving \"by mutual agreement to pursue other career opportunities\", the firm said in a statement. The severance package means she keeps long-term share options, but fails to collect on a 2003 incentive plan since the firm has failed to meet the targets included in it.\\n \\n The revelation that Shell had inflated its reserves led to the resignation of its chairman, Sir Phil Watts, and production chief Walter van der Vijver.\\n \\n An investigation commissioned by Shell found that Ms Boynton had to share responsibility for the company\\'s behaviour. Despite receiving an email from Mr Van de Vijver which said the firm had \"fooled\" the market about its reserves, the investigation said, she did nothing to inquire further. In all, Shell restated its reserves four times during 2003. In September, it paid Â£82.7m in fines to regulators on both sides of the Atlantic for violating market rules in its reporting of its reserves.\\n'"
      ]
     },
     "execution_count": 7,
     "metadata": {},
     "output_type": "execute_result"
    }
   ],
   "source": [
    "text = dataset.news[3]\n",
    "text"
   ]
  },
  {
   "cell_type": "code",
   "execution_count": 8,
   "metadata": {},
   "outputs": [
    {
     "data": {
      "text/plain": [
       "$1m payoff for former Shell boss\n",
       " \n",
       " Shell is to pay $1m (Â£522,000) to the ex-finance chief who stepped down from her post in April 2004 after the firm over-stated its reserves.\n",
       " \n",
       " Judy Boynton finally left the firm on 31 December, having spent the intervening time as a special advisor to chief executive Jeroen van der Veer. In January 2004, Shell told shocked investors that its reserves were 20% smaller than previously thought. Shell said the pay-off was in line with Ms Boynton's contract. She was leaving \"by mutual agreement to pursue other career opportunities\", the firm said in a statement. The severance package means she keeps long-term share options, but fails to collect on a 2003 incentive plan since the firm has failed to meet the targets included in it.\n",
       " \n",
       " The revelation that Shell had inflated its reserves led to the resignation of its chairman, Sir Phil Watts, and production chief Walter van der Vijver.\n",
       " \n",
       " An investigation commissioned by Shell found that Ms Boynton had to share responsibility for the company's behaviour. Despite receiving an email from Mr Van de Vijver which said the firm had \"fooled\" the market about its reserves, the investigation said, she did nothing to inquire further. In all, Shell restated its reserves four times during 2003. In September, it paid Â£82.7m in fines to regulators on both sides of the Atlantic for violating market rules in its reporting of its reserves."
      ]
     },
     "execution_count": 8,
     "metadata": {},
     "output_type": "execute_result"
    }
   ],
   "source": [
    "doc = nlp(text)\n",
    "doc"
   ]
  },
  {
   "cell_type": "code",
   "execution_count": 9,
   "metadata": {},
   "outputs": [
    {
     "name": "stdout",
     "output_type": "stream",
     "text": [
      "$\n",
      "1\n",
      "m\n",
      "payoff\n",
      "Shell\n",
      "boss\n",
      "\n",
      " \n",
      " \n",
      "Shell\n",
      "pay\n",
      "$\n",
      "1\n",
      "m\n",
      "(\n",
      "Â£522,000\n",
      ")\n",
      "ex\n",
      "-\n",
      "finance\n",
      "chief\n",
      "stepped\n",
      "post\n",
      "April\n",
      "2004\n",
      "firm\n",
      "-\n",
      "stated\n",
      "reserves\n",
      ".\n",
      "\n",
      " \n",
      " \n",
      "Judy\n",
      "Boynton\n",
      "finally\n",
      "left\n",
      "firm\n",
      "31\n",
      "December\n",
      ",\n",
      "having\n",
      "spent\n",
      "intervening\n",
      "time\n",
      "special\n",
      "advisor\n",
      "chief\n",
      "executive\n",
      "Jeroen\n",
      "van\n",
      "der\n",
      "Veer\n",
      ".\n",
      "In\n",
      "January\n",
      "2004\n",
      ",\n",
      "Shell\n",
      "told\n",
      "shocked\n",
      "investors\n",
      "reserves\n",
      "20\n",
      "%\n",
      "smaller\n",
      "previously\n",
      "thought\n",
      ".\n",
      "Shell\n",
      "said\n",
      "pay\n",
      "-\n",
      "line\n",
      "Ms\n",
      "Boynton\n",
      "'s\n",
      "contract\n",
      ".\n",
      "She\n",
      "leaving\n",
      "\"\n",
      "mutual\n",
      "agreement\n",
      "pursue\n",
      "career\n",
      "opportunities\n",
      "\"\n",
      ",\n",
      "firm\n",
      "said\n",
      "statement\n",
      ".\n",
      "The\n",
      "severance\n",
      "package\n",
      "means\n",
      "keeps\n",
      "long\n",
      "-\n",
      "term\n",
      "share\n",
      "options\n",
      ",\n",
      "fails\n",
      "collect\n",
      "2003\n",
      "incentive\n",
      "plan\n",
      "firm\n",
      "failed\n",
      "meet\n",
      "targets\n",
      "included\n",
      ".\n",
      "\n",
      " \n",
      " \n",
      "The\n",
      "revelation\n",
      "Shell\n",
      "inflated\n",
      "reserves\n",
      "led\n",
      "resignation\n",
      "chairman\n",
      ",\n",
      "Sir\n",
      "Phil\n",
      "Watts\n",
      ",\n",
      "production\n",
      "chief\n",
      "Walter\n",
      "van\n",
      "der\n",
      "Vijver\n",
      ".\n",
      "\n",
      " \n",
      " \n",
      "An\n",
      "investigation\n",
      "commissioned\n",
      "Shell\n",
      "found\n",
      "Ms\n",
      "Boynton\n",
      "share\n",
      "responsibility\n",
      "company\n",
      "'s\n",
      "behaviour\n",
      ".\n",
      "Despite\n",
      "receiving\n",
      "email\n",
      "Mr\n",
      "Van\n",
      "de\n",
      "Vijver\n",
      "said\n",
      "firm\n",
      "\"\n",
      "fooled\n",
      "\"\n",
      "market\n",
      "reserves\n",
      ",\n",
      "investigation\n",
      "said\n",
      ",\n",
      "inquire\n",
      ".\n",
      "In\n",
      ",\n",
      "Shell\n",
      "restated\n",
      "reserves\n",
      "times\n",
      "2003\n",
      ".\n",
      "In\n",
      "September\n",
      ",\n",
      "paid\n",
      "Â£82.7\n",
      "m\n",
      "fines\n",
      "regulators\n",
      "sides\n",
      "Atlantic\n",
      "violating\n",
      "market\n",
      "rules\n",
      "reporting\n",
      "reserves\n",
      ".\n",
      "\n",
      "\n"
     ]
    }
   ],
   "source": [
    "for word in doc:\n",
    "    if word.is_stop == False:\n",
    "        print(word)"
   ]
  },
  {
   "cell_type": "code",
   "execution_count": 10,
   "metadata": {},
   "outputs": [],
   "source": [
    "## Adding you Stop words"
   ]
  },
  {
   "cell_type": "code",
   "execution_count": 11,
   "metadata": {},
   "outputs": [],
   "source": [
    "STOP_WORDS.add(\"LOL\")"
   ]
  },
  {
   "cell_type": "code",
   "execution_count": 12,
   "metadata": {},
   "outputs": [
    {
     "data": {
      "text/plain": [
       "False"
      ]
     },
     "execution_count": 12,
     "metadata": {},
     "output_type": "execute_result"
    }
   ],
   "source": [
    "nlp.vocab[\"LOL\"].is_stop"
   ]
  },
  {
   "cell_type": "code",
   "execution_count": 13,
   "metadata": {},
   "outputs": [
    {
     "data": {
      "text/plain": [
       "306"
      ]
     },
     "execution_count": 13,
     "metadata": {},
     "output_type": "execute_result"
    }
   ],
   "source": [
    "len(STOP_WORDS)"
   ]
  },
  {
   "cell_type": "code",
   "execution_count": 14,
   "metadata": {},
   "outputs": [],
   "source": [
    "#STOP_WORDS"
   ]
  },
  {
   "cell_type": "code",
   "execution_count": 15,
   "metadata": {},
   "outputs": [],
   "source": [
    "STOP_WORDS.remove('LOL')"
   ]
  },
  {
   "cell_type": "code",
   "execution_count": 16,
   "metadata": {},
   "outputs": [
    {
     "data": {
      "text/plain": [
       "305"
      ]
     },
     "execution_count": 16,
     "metadata": {},
     "output_type": "execute_result"
    }
   ],
   "source": [
    "len(STOP_WORDS)"
   ]
  },
  {
   "cell_type": "code",
   "execution_count": 17,
   "metadata": {},
   "outputs": [],
   "source": [
    "STOP_WORDS.clear()"
   ]
  },
  {
   "cell_type": "code",
   "execution_count": 18,
   "metadata": {},
   "outputs": [
    {
     "data": {
      "text/plain": [
       "0"
      ]
     },
     "execution_count": 18,
     "metadata": {},
     "output_type": "execute_result"
    }
   ],
   "source": [
    "len(STOP_WORDS)"
   ]
  },
  {
   "cell_type": "code",
   "execution_count": null,
   "metadata": {},
   "outputs": [],
   "source": []
  }
 ],
 "metadata": {
  "kernelspec": {
   "display_name": "Python 3",
   "language": "python",
   "name": "python3"
  },
  "language_info": {
   "codemirror_mode": {
    "name": "ipython",
    "version": 3
   },
   "file_extension": ".py",
   "mimetype": "text/x-python",
   "name": "python",
   "nbconvert_exporter": "python",
   "pygments_lexer": "ipython3",
   "version": "3.6.6"
  }
 },
 "nbformat": 4,
 "nbformat_minor": 2
}
