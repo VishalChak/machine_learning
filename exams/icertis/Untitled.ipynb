{
 "cells": [
  {
   "cell_type": "code",
   "execution_count": 3,
   "metadata": {},
   "outputs": [
    {
     "name": "stdout",
     "output_type": "stream",
     "text": [
      "thas as vishil chik\n"
     ]
    }
   ],
   "source": [
    "vow_char = ['a','i', 'o', 'u', 'e']\n",
    "def revrse_str (str_val):\n",
    "    list_str = []\n",
    "    for k in range(len(str_val)):\n",
    "        list_str.append(str_val[k])\n",
    "    i = 0\n",
    "    j = len(str_val)-1\n",
    "    ind_first = False\n",
    "    ind_last = False\n",
    "    while i <= j:\n",
    "        if not ind_first:\n",
    "            if str_val[i] not in vow_char:\n",
    "                i = i+1\n",
    "            else:\n",
    "                ind_first = True\n",
    "        if not ind_last:\n",
    "            if str_val[j] not in vow_char:\n",
    "                j = j-1\n",
    "            else:\n",
    "                ind_last = True\n",
    "        if ind_first and ind_last:\n",
    "            temp = list_str[i]\n",
    "            list_str[i] = list_str[j]\n",
    "            list_str[j] = temp\n",
    "            ind_first = False\n",
    "            ind_last =  False\n",
    "            i+=1\n",
    "            j-=1\n",
    "    return \"\".join(list_str)\n",
    "res = revrse_str('this is vishal chak')\n",
    "print(res)"
   ]
  },
  {
   "cell_type": "code",
   "execution_count": null,
   "metadata": {},
   "outputs": [],
   "source": []
  }
 ],
 "metadata": {
  "kernelspec": {
   "display_name": "Python 3",
   "language": "python",
   "name": "python3"
  },
  "language_info": {
   "codemirror_mode": {
    "name": "ipython",
    "version": 3
   },
   "file_extension": ".py",
   "mimetype": "text/x-python",
   "name": "python",
   "nbconvert_exporter": "python",
   "pygments_lexer": "ipython3",
   "version": "3.6.4"
  }
 },
 "nbformat": 4,
 "nbformat_minor": 2
}
