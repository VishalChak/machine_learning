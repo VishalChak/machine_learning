{
 "cells": [
  {
   "cell_type": "code",
   "execution_count": 1,
   "metadata": {},
   "outputs": [
    {
     "ename": "ModuleNotFoundError",
     "evalue": "No module named 'keras'",
     "output_type": "error",
     "traceback": [
      "\u001b[0;31m---------------------------------------------------------------------------\u001b[0m",
      "\u001b[0;31mModuleNotFoundError\u001b[0m                       Traceback (most recent call last)",
      "\u001b[0;32m<ipython-input-1-a218b0dd423c>\u001b[0m in \u001b[0;36m<module>\u001b[0;34m\u001b[0m\n\u001b[0;32m----> 1\u001b[0;31m \u001b[0;32mimport\u001b[0m \u001b[0mkeras\u001b[0m\u001b[0;34m\u001b[0m\u001b[0m\n\u001b[0m\u001b[1;32m      2\u001b[0m \u001b[0;32mfrom\u001b[0m \u001b[0mkeras\u001b[0m \u001b[0;32mimport\u001b[0m \u001b[0mbackend\u001b[0m \u001b[0;32mas\u001b[0m \u001b[0mk\u001b[0m\u001b[0;34m\u001b[0m\u001b[0m\n\u001b[1;32m      3\u001b[0m \u001b[0;32mfrom\u001b[0m \u001b[0mkeras\u001b[0m\u001b[0;34m.\u001b[0m\u001b[0mmodels\u001b[0m \u001b[0;32mimport\u001b[0m \u001b[0mSequential\u001b[0m\u001b[0;34m\u001b[0m\u001b[0m\n\u001b[1;32m      4\u001b[0m \u001b[0;32mfrom\u001b[0m \u001b[0mkeras\u001b[0m\u001b[0;34m.\u001b[0m\u001b[0mlayers\u001b[0m \u001b[0;32mimport\u001b[0m \u001b[0mActivation\u001b[0m\u001b[0;34m\u001b[0m\u001b[0m\n\u001b[1;32m      5\u001b[0m \u001b[0;32mfrom\u001b[0m \u001b[0mkeras\u001b[0m\u001b[0;34m.\u001b[0m\u001b[0mlayers\u001b[0m\u001b[0;34m.\u001b[0m\u001b[0mcore\u001b[0m \u001b[0;32mimport\u001b[0m \u001b[0mDense\u001b[0m\u001b[0;34m\u001b[0m\u001b[0m\n",
      "\u001b[0;31mModuleNotFoundError\u001b[0m: No module named 'keras'"
     ]
    }
   ],
   "source": [
    "import keras\n",
    "from keras import backend as k\n",
    "from keras.models import Sequential\n",
    "from keras.layers import Activation\n",
    "from keras.layers.core import Dense\n",
    "from keras.optimizers import Adam\n",
    "from keras.metrics import categorical_crossentropy"
   ]
  },
  {
   "cell_type": "code",
   "execution_count": 2,
   "metadata": {},
   "outputs": [],
   "source": [
    "model = Sequential([Dense(16, input_shape= (1,), activation='relu'),\n",
    "                   Dense(32,activation = 'relu'),\n",
    "                   Dense(2, activation = 'softmax')])"
   ]
  },
  {
   "cell_type": "code",
   "execution_count": 3,
   "metadata": {},
   "outputs": [
    {
     "name": "stdout",
     "output_type": "stream",
     "text": [
      "_________________________________________________________________\n",
      "Layer (type)                 Output Shape              Param #   \n",
      "=================================================================\n",
      "dense_1 (Dense)              (None, 16)                32        \n",
      "_________________________________________________________________\n",
      "dense_2 (Dense)              (None, 32)                544       \n",
      "_________________________________________________________________\n",
      "dense_3 (Dense)              (None, 2)                 66        \n",
      "=================================================================\n",
      "Total params: 642\n",
      "Trainable params: 642\n",
      "Non-trainable params: 0\n",
      "_________________________________________________________________\n"
     ]
    }
   ],
   "source": [
    "model.summary()"
   ]
  },
  {
   "cell_type": "code",
   "execution_count": 4,
   "metadata": {},
   "outputs": [],
   "source": [
    "model.compile(Adam(lr = 0.0001), loss = 'sparse_categorical_crossentropy', metrics=['accuracy'])"
   ]
  },
  {
   "cell_type": "code",
   "execution_count": 5,
   "metadata": {},
   "outputs": [
    {
     "name": "stderr",
     "output_type": "stream",
     "text": [
      "C:\\Users\\vbabu\\AppData\\Local\\Continuum\\anaconda3\\envs\\tensorflow\\lib\\site-packages\\sklearn\\utils\\validation.py:475: DataConversionWarning: Data with input dtype int32 was converted to float64 by MinMaxScaler.\n",
      "  warnings.warn(msg, DataConversionWarning)\n"
     ]
    }
   ],
   "source": [
    "from preprocessinf_1 import get_data\n",
    "X,y = get_data()"
   ]
  },
  {
   "cell_type": "code",
   "execution_count": 6,
   "metadata": {},
   "outputs": [
    {
     "name": "stdout",
     "output_type": "stream",
     "text": [
      "Epoch 1/20\n",
      " - 1s - loss: 0.6962 - acc: 0.5814\n",
      "Epoch 2/20\n",
      " - 0s - loss: 0.6535 - acc: 0.7367\n",
      "Epoch 3/20\n",
      " - 0s - loss: 0.6067 - acc: 0.8081\n",
      "Epoch 4/20\n",
      " - 0s - loss: 0.5647 - acc: 0.8300\n",
      "Epoch 5/20\n",
      " - 0s - loss: 0.5249 - acc: 0.8605\n",
      "Epoch 6/20\n",
      " - 0s - loss: 0.4873 - acc: 0.8748\n",
      "Epoch 7/20\n",
      " - 0s - loss: 0.4525 - acc: 0.8857\n",
      "Epoch 8/20\n",
      " - 0s - loss: 0.4209 - acc: 0.8957\n",
      "Epoch 9/20\n",
      " - 0s - loss: 0.3937 - acc: 0.9029\n",
      "Epoch 10/20\n",
      " - 0s - loss: 0.3704 - acc: 0.9110\n",
      "Epoch 11/20\n",
      " - 0s - loss: 0.3511 - acc: 0.9129\n",
      "Epoch 12/20\n",
      " - 0s - loss: 0.3350 - acc: 0.9224\n",
      "Epoch 13/20\n",
      " - 0s - loss: 0.3217 - acc: 0.9152\n",
      "Epoch 14/20\n",
      " - 0s - loss: 0.3111 - acc: 0.9248\n",
      "Epoch 15/20\n",
      " - 0s - loss: 0.3021 - acc: 0.9243\n",
      "Epoch 16/20\n",
      " - 0s - loss: 0.2950 - acc: 0.9310\n",
      "Epoch 17/20\n",
      " - 0s - loss: 0.2892 - acc: 0.9305\n",
      "Epoch 18/20\n",
      " - 0s - loss: 0.2842 - acc: 0.9295\n",
      "Epoch 19/20\n",
      " - 0s - loss: 0.2801 - acc: 0.9290\n",
      "Epoch 20/20\n",
      " - 0s - loss: 0.2768 - acc: 0.9286\n"
     ]
    },
    {
     "data": {
      "text/plain": [
       "<keras.callbacks.History at 0x1c422c51b38>"
      ]
     },
     "execution_count": 6,
     "metadata": {},
     "output_type": "execute_result"
    }
   ],
   "source": [
    "model.fit(X,y,batch_size=10, epochs=20,shuffle=True, verbose=2)"
   ]
  },
  {
   "cell_type": "code",
   "execution_count": 7,
   "metadata": {},
   "outputs": [
    {
     "name": "stdout",
     "output_type": "stream",
     "text": [
      "Train on 1890 samples, validate on 210 samples\n",
      "Epoch 1/20\n",
      " - 0s - loss: 0.1686 - acc: 0.9783 - val_loss: 1.2429 - val_acc: 0.5381\n",
      "Epoch 2/20\n",
      " - 0s - loss: 0.1578 - acc: 0.9746 - val_loss: 1.3009 - val_acc: 0.5381\n",
      "Epoch 3/20\n",
      " - 0s - loss: 0.1487 - acc: 0.9794 - val_loss: 1.3596 - val_acc: 0.5381\n",
      "Epoch 4/20\n",
      " - 0s - loss: 0.1401 - acc: 0.9778 - val_loss: 1.4150 - val_acc: 0.5333\n",
      "Epoch 5/20\n",
      " - 0s - loss: 0.1328 - acc: 0.9810 - val_loss: 1.4715 - val_acc: 0.5333\n",
      "Epoch 6/20\n",
      " - 0s - loss: 0.1261 - acc: 0.9788 - val_loss: 1.5278 - val_acc: 0.5333\n",
      "Epoch 7/20\n",
      " - 0s - loss: 0.1202 - acc: 0.9804 - val_loss: 1.5828 - val_acc: 0.5333\n",
      "Epoch 8/20\n",
      " - 0s - loss: 0.1147 - acc: 0.9815 - val_loss: 1.6368 - val_acc: 0.5333\n",
      "Epoch 9/20\n",
      " - 0s - loss: 0.1098 - acc: 0.9841 - val_loss: 1.6914 - val_acc: 0.5333\n",
      "Epoch 10/20\n",
      " - 0s - loss: 0.1052 - acc: 0.9799 - val_loss: 1.7416 - val_acc: 0.5333\n",
      "Epoch 11/20\n",
      " - 0s - loss: 0.1014 - acc: 0.9841 - val_loss: 1.7940 - val_acc: 0.5333\n",
      "Epoch 12/20\n",
      " - 0s - loss: 0.0977 - acc: 0.9841 - val_loss: 1.8439 - val_acc: 0.5333\n",
      "Epoch 13/20\n",
      " - 0s - loss: 0.0942 - acc: 0.9862 - val_loss: 1.8965 - val_acc: 0.5333\n",
      "Epoch 14/20\n",
      " - 0s - loss: 0.0911 - acc: 0.9841 - val_loss: 1.9440 - val_acc: 0.5333\n",
      "Epoch 15/20\n",
      " - 0s - loss: 0.0880 - acc: 0.9894 - val_loss: 1.9931 - val_acc: 0.5333\n",
      "Epoch 16/20\n",
      " - 0s - loss: 0.0856 - acc: 0.9852 - val_loss: 2.0383 - val_acc: 0.5333\n",
      "Epoch 17/20\n",
      " - 0s - loss: 0.0831 - acc: 0.9852 - val_loss: 2.0791 - val_acc: 0.5333\n",
      "Epoch 18/20\n",
      " - 0s - loss: 0.0808 - acc: 0.9910 - val_loss: 2.1278 - val_acc: 0.5333\n",
      "Epoch 19/20\n",
      " - 0s - loss: 0.0786 - acc: 0.9868 - val_loss: 2.1712 - val_acc: 0.5333\n",
      "Epoch 20/20\n",
      " - 0s - loss: 0.0766 - acc: 0.9884 - val_loss: 2.2156 - val_acc: 0.5333\n"
     ]
    },
    {
     "data": {
      "text/plain": [
       "<keras.callbacks.History at 0x1c4236dd9e8>"
      ]
     },
     "execution_count": 7,
     "metadata": {},
     "output_type": "execute_result"
    }
   ],
   "source": [
    "# make validation set\n",
    "\n",
    "model.fit(X,y, validation_split=0.1, batch_size=10, epochs=20, shuffle=True, verbose=2)"
   ]
  },
  {
   "cell_type": "code",
   "execution_count": 8,
   "metadata": {},
   "outputs": [],
   "source": [
    "# get new Data\n",
    "X_test, y_test = get_data()"
   ]
  },
  {
   "cell_type": "code",
   "execution_count": 9,
   "metadata": {},
   "outputs": [],
   "source": [
    "# Predict \n",
    "predictiction = model.predict(X_test, batch_size=10, verbose=0)"
   ]
  },
  {
   "cell_type": "code",
   "execution_count": 11,
   "metadata": {},
   "outputs": [
    {
     "name": "stdout",
     "output_type": "stream",
     "text": [
      "[0.99866426 0.00133575]\n",
      "[0.00329394 0.99670607]\n",
      "[0.998635   0.00136494]\n",
      "[0.00197191 0.9980281 ]\n",
      "[0.9789437  0.02105624]\n",
      "[0.00608948 0.99391055]\n",
      "[0.76655287 0.23344716]\n",
      "[0.00329394 0.99670607]\n",
      "[0.9986413  0.00135863]\n",
      "[0.15416235 0.8458376 ]\n"
     ]
    }
   ],
   "source": [
    "for i in range(10):\n",
    "    print(predictiction[i])"
   ]
  },
  {
   "cell_type": "code",
   "execution_count": 12,
   "metadata": {},
   "outputs": [],
   "source": [
    "rounded_prediction = model.predict_classes(X_test, batch_size=10, verbose=0)"
   ]
  },
  {
   "cell_type": "code",
   "execution_count": 14,
   "metadata": {},
   "outputs": [
    {
     "name": "stdout",
     "output_type": "stream",
     "text": [
      "0\n",
      "1\n",
      "0\n",
      "1\n",
      "0\n",
      "1\n",
      "0\n",
      "1\n",
      "0\n",
      "1\n"
     ]
    }
   ],
   "source": [
    "for i in range(10):\n",
    "    print(rounded_prediction[i])"
   ]
  },
  {
   "cell_type": "code",
   "execution_count": 20,
   "metadata": {},
   "outputs": [],
   "source": [
    "# Confusion matrics\n",
    "\n",
    "%matplotlib inline\n",
    "from sklearn.metrics import confusion_matrix\n",
    "import itertools\n",
    "import matplotlib.pyplot as plt\n",
    "import numpy as np"
   ]
  },
  {
   "cell_type": "code",
   "execution_count": 21,
   "metadata": {},
   "outputs": [],
   "source": [
    "cm = confusion_matrix(y_test, rounded_prediction)"
   ]
  },
  {
   "cell_type": "code",
   "execution_count": 29,
   "metadata": {},
   "outputs": [
    {
     "name": "stdout",
     "output_type": "stream",
     "text": [
      "[[ 970   80]\n",
      " [  48 1002]]\n"
     ]
    },
    {
     "data": {
      "image/png": "[encoded data removed]",
      "text/plain": [
       "<Figure size 432x288 with 1 Axes>"
      ]
     },
     "metadata": {
      "needs_background": "light"
     },
     "output_type": "display_data"
    }
   ],
   "source": [
    "def plot_confution_matix(cm, classes, normalize = False, title= 'confusion matix', cmap  = plt.cm.Blues):\n",
    "    plt.imshow(cm, interpolation='nearest', cmap=cmap)\n",
    "    plt.title(title)\n",
    "    tick_mark = np.arange(len(classes))\n",
    "    plt.xticks(tick_mark, classes, rotation= 45)\n",
    "    plt.yticks(tick_mark, classes)\n",
    "    \n",
    "    print(cm)\n",
    "    \n",
    "    thresh = cm.max()/2\n",
    "    for i , j in itertools.product(range(cm.shape[0]), range(cm.shape[1])):\n",
    "        plt.text(j,i, cm[i,j])\n",
    "    plt.tight_layout()\n",
    "    plt.ylabel('True lable')\n",
    "    plt.xlabel('predicted lable')\n",
    "\n",
    "cm_lables = ['not side effacts', 'had side effact']\n",
    "plot_confution_matix(cm,cm_lables)"
   ]
  },
  {
   "cell_type": "code",
   "execution_count": 30,
   "metadata": {},
   "outputs": [],
   "source": [
    "# save and load model\n",
    "\n",
    "model.save('model_trail_model.h5')"
   ]
  },
  {
   "cell_type": "code",
   "execution_count": 31,
   "metadata": {},
   "outputs": [],
   "source": [
    "from keras.models import load_model\n",
    "new_model = load_model('model_trail_model.h5')"
   ]
  },
  {
   "cell_type": "code",
   "execution_count": 32,
   "metadata": {},
   "outputs": [
    {
     "name": "stdout",
     "output_type": "stream",
     "text": [
      "_________________________________________________________________\n",
      "Layer (type)                 Output Shape              Param #   \n",
      "=================================================================\n",
      "dense_1 (Dense)              (None, 16)                32        \n",
      "_________________________________________________________________\n",
      "dense_2 (Dense)              (None, 32)                544       \n",
      "_________________________________________________________________\n",
      "dense_3 (Dense)              (None, 2)                 66        \n",
      "=================================================================\n",
      "Total params: 642\n",
      "Trainable params: 642\n",
      "Non-trainable params: 0\n",
      "_________________________________________________________________\n"
     ]
    }
   ],
   "source": [
    "new_model.summary()"
   ]
  },
  {
   "cell_type": "code",
   "execution_count": 33,
   "metadata": {},
   "outputs": [
    {
     "data": {
      "text/plain": [
       "[array([[-0.10814759, -0.33922702, -0.45168167, -0.4004028 ,  0.52249813,\n",
       "         -0.22935495, -0.0819062 , -0.19811091,  0.508178  ,  0.47278705,\n",
       "         -0.43849128,  0.00850191,  0.5147902 ,  0.6327061 ,  0.67958754,\n",
       "          0.3809406 ]], dtype=float32),\n",
       " array([ 0.        ,  0.        ,  0.        ,  0.        ,  0.10321436,\n",
       "         0.        ,  0.        ,  0.24389194, -0.02378847, -0.14694396,\n",
       "         0.        , -0.00855978, -0.15459906, -0.16084178, -0.15048987,\n",
       "         0.29925552], dtype=float32),\n",
       " array([[ 0.2657455 ,  0.10672331,  0.04179898,  0.21495101,  0.1442174 ,\n",
       "         -0.04840025,  0.06952351,  0.00508991,  0.16137853,  0.31177416,\n",
       "         -0.08926526,  0.28605798, -0.27132994,  0.01213956, -0.01745933,\n",
       "          0.08317485,  0.06955308,  0.1012502 ,  0.28279522,  0.07604909,\n",
       "          0.27671906, -0.0896042 ,  0.30618134,  0.33895776, -0.19226153,\n",
       "          0.02664667, -0.3535501 , -0.17390455, -0.14054339, -0.33861268,\n",
       "         -0.0804531 , -0.09286383],\n",
       "        [-0.16511913, -0.34606525, -0.1177078 ,  0.10255358,  0.2579485 ,\n",
       "         -0.17613673, -0.31189805, -0.06948429,  0.08223677,  0.04091448,\n",
       "          0.23532262, -0.314089  , -0.08323479, -0.12198402,  0.03150645,\n",
       "          0.29083785, -0.1232674 ,  0.00292778,  0.23241726, -0.00124106,\n",
       "          0.08032575, -0.02039495,  0.26806346, -0.24291049,  0.21836999,\n",
       "         -0.28238127, -0.21105666,  0.35006407,  0.2728643 ,  0.22659847,\n",
       "          0.19782224,  0.2090992 ],\n",
       "        [-0.03598455, -0.01657686, -0.32861754,  0.07800168,  0.1845071 ,\n",
       "          0.09919018,  0.2670481 ,  0.29397592,  0.17752722, -0.23374237,\n",
       "         -0.08373213, -0.09390923, -0.14767547, -0.2972865 , -0.03040043,\n",
       "         -0.07868016,  0.08286855,  0.14666286, -0.0294207 ,  0.27531376,\n",
       "         -0.1838351 ,  0.31447932, -0.12033102,  0.2274265 ,  0.12178838,\n",
       "          0.27518544,  0.2918562 ,  0.15058067, -0.04114711, -0.20601454,\n",
       "          0.28945664,  0.19195941],\n",
       "        [ 0.18077603,  0.3424671 , -0.2028264 ,  0.3278288 ,  0.2427254 ,\n",
       "          0.17778638, -0.28998086,  0.01018092, -0.26365104, -0.1355779 ,\n",
       "         -0.10192278,  0.07971478,  0.01163051, -0.08738339, -0.21897024,\n",
       "         -0.1930973 , -0.3172448 ,  0.17767331, -0.13286498,  0.02844179,\n",
       "          0.17441586,  0.33625945,  0.30527732,  0.00732714, -0.01009679,\n",
       "         -0.1929239 , -0.11606213, -0.07705918,  0.02229089,  0.04294917,\n",
       "          0.10908177,  0.17230305],\n",
       "        [-0.08472517,  0.36675525,  0.2490839 ,  0.17093875, -0.33139157,\n",
       "          0.16329871,  0.17407538,  0.31152883,  0.42475978, -0.15149172,\n",
       "          0.24965957, -0.12172456, -0.30115056, -0.12587754,  0.47205576,\n",
       "         -0.00367993,  0.18253489, -0.204723  ,  0.25879663, -0.03704995,\n",
       "          0.03595959, -0.10306004, -0.22736993, -0.29673305,  0.00574232,\n",
       "         -0.2468562 ,  0.03894398,  0.01008822,  0.12743293,  0.2176577 ,\n",
       "         -0.3118941 ,  0.2675117 ],\n",
       "        [ 0.10671851,  0.09508833, -0.17814006,  0.33258012, -0.13776936,\n",
       "          0.09587684, -0.17961165, -0.1293834 ,  0.2222254 , -0.21261239,\n",
       "         -0.29687464,  0.0436208 , -0.30095994,  0.0897029 , -0.33004287,\n",
       "         -0.22511466,  0.12482667,  0.09208563,  0.27119341, -0.21948653,\n",
       "          0.2033839 , -0.34133595,  0.19627103,  0.34145924, -0.03949547,\n",
       "          0.05507126, -0.30655003,  0.21347204, -0.3340593 ,  0.12187394,\n",
       "         -0.33987537,  0.16633698],\n",
       "        [ 0.14818725,  0.32185194,  0.3411019 ,  0.06781605,  0.33584943,\n",
       "          0.12091753, -0.02660316,  0.24455896,  0.20753285, -0.27062416,\n",
       "         -0.05626687,  0.19065121,  0.34438923,  0.16058514,  0.2962351 ,\n",
       "          0.31360844, -0.1204873 , -0.0879491 ,  0.01367909,  0.1352    ,\n",
       "          0.17063716,  0.35312906,  0.07316104, -0.16017506,  0.11879611,\n",
       "          0.03262991, -0.17998466,  0.11708933, -0.3215023 , -0.28246784,\n",
       "          0.09085014, -0.23378241],\n",
       "        [ 0.7427329 , -0.4846582 ,  0.5516063 , -0.3304357 ,  0.16810068,\n",
       "          0.29459205,  0.36172962, -0.45776927, -0.5133221 ,  0.49912634,\n",
       "          0.2924005 ,  0.47337162,  0.62123317, -0.09253097, -0.61502177,\n",
       "         -0.24470873,  0.35357597,  0.13851544, -0.39158267, -0.2583723 ,\n",
       "         -0.23812145, -0.34397936,  0.13075858,  0.20960946,  0.71556157,\n",
       "         -0.08805388, -0.20527087, -0.20095132,  0.5152611 , -0.3959262 ,\n",
       "          0.02201793,  0.7543499 ],\n",
       "        [-0.16253862,  0.2249577 , -0.3896311 ,  0.24804187, -0.19424386,\n",
       "         -0.03429846,  0.2204287 , -0.03050436,  0.49137622,  0.2070029 ,\n",
       "         -0.3622994 ,  0.16705258,  0.07032813, -0.15333495,  0.22950597,\n",
       "         -0.27359155, -0.48129302, -0.21549481,  0.57248455, -0.20274968,\n",
       "          0.19911142,  0.24379781, -0.03813684, -0.11414543, -0.02205903,\n",
       "         -0.35160807,  0.36139363,  0.19169402,  0.05152552,  0.24039811,\n",
       "         -0.31319296, -0.13313909],\n",
       "        [-0.5329888 ,  0.05821905, -0.3597459 ,  0.49700987, -0.3263094 ,\n",
       "         -0.49834508, -0.3019432 ,  0.54528725,  0.17185809, -0.6018917 ,\n",
       "         -0.5480915 , -0.55956733, -0.3136229 , -0.03121471,  0.5565037 ,\n",
       "          0.14853361, -0.56624   ,  0.31599364,  0.30359915,  0.06261116,\n",
       "          0.24052745, -0.21174924,  0.09117332, -0.17924877, -0.3596283 ,\n",
       "          0.2559462 ,  0.55847317,  0.26336896, -0.585433  ,  0.05920077,\n",
       "         -0.19860834, -0.29632962],\n",
       "        [ 0.14325798, -0.08266768,  0.17291662,  0.01606461,  0.30375502,\n",
       "         -0.11530307, -0.25033498,  0.18487385, -0.02624652, -0.26970264,\n",
       "         -0.02554429, -0.3514521 , -0.01006171,  0.35012826,  0.10285348,\n",
       "         -0.11603777, -0.3202589 , -0.23178162, -0.05758211,  0.29740003,\n",
       "          0.1742957 , -0.13654146, -0.28287363,  0.01431131,  0.149726  ,\n",
       "          0.31173494,  0.11263603,  0.23787072,  0.32741258,  0.20969024,\n",
       "          0.116027  ,  0.08491477],\n",
       "        [ 0.17105916,  0.32937348,  0.0484177 ,  0.1594212 ,  0.10087571,\n",
       "          0.24483441,  0.10183869,  0.34878182, -0.2258095 ,  0.11560813,\n",
       "          0.1360353 ,  0.3024645 ,  0.14730737, -0.31032926, -0.20583118,\n",
       "          0.34993514, -0.08514675,  0.06077161,  0.12624525,  0.09709942,\n",
       "         -0.31804976, -0.24086612,  0.30781195,  0.0661729 , -0.29762948,\n",
       "         -0.17359966, -0.1481863 , -0.0748027 , -0.18946016,  0.30639526,\n",
       "          0.18425992,  0.09186545],\n",
       "        [-0.2408701 ,  0.1515991 ,  0.09358124,  0.3542321 , -0.20265596,\n",
       "         -0.22941948, -0.5550924 ,  0.44300297,  0.6211413 , -0.5452232 ,\n",
       "         -0.26214033, -0.1916495 , -0.45227006,  0.26394698,  0.16449746,\n",
       "         -0.08624712, -0.08062305,  0.05149806,  0.5246937 , -0.21492659,\n",
       "          0.09960626, -0.22540653, -0.19496188,  0.11744335, -0.33167383,\n",
       "         -0.12346852,  0.10861923,  0.20151581, -0.10222753,  0.5609008 ,\n",
       "          0.17925993, -0.486402  ],\n",
       "        [-0.37358797,  0.3661947 , -0.47843722,  0.36621878,  0.19574246,\n",
       "         -0.29509747, -0.50161284,  0.12673174,  0.43488783, -0.54482144,\n",
       "         -0.048193  , -0.19561774, -0.0345907 , -0.08656001,  0.15223394,\n",
       "         -0.18674569, -0.01323587, -0.02938664,  0.63784766, -0.3204532 ,\n",
       "          0.44013214,  0.20979707,  0.12266934, -0.2626392 , -0.4826758 ,\n",
       "         -0.05199116,  0.13902944, -0.13661982, -0.47021043,  0.47711423,\n",
       "         -0.03708619, -0.4064696 ],\n",
       "        [-0.2217718 ,  0.49812216,  0.00675771,  0.34502992, -0.18286818,\n",
       "         -0.5583725 , -0.224884  ,  0.3586982 ,  0.14303468,  0.11208726,\n",
       "         -0.41458654, -0.0756866 , -0.37958768, -0.34401286,  0.13806085,\n",
       "          0.24810877, -0.33578885, -0.31449768,  0.06609978, -0.23510876,\n",
       "          0.37777096,  0.20765534, -0.337069  , -0.1840914 , -0.24120836,\n",
       "          0.35139194,  0.5103349 , -0.15194824, -0.27852044,  0.5679912 ,\n",
       "          0.16472921, -0.21553427],\n",
       "        [ 0.350923  ,  0.39302742,  0.0675462 , -0.10290995, -0.12005353,\n",
       "          0.27315593,  0.09237174,  0.32998264,  0.2027448 ,  0.28574088,\n",
       "          0.25358784,  0.17296025,  0.2928101 , -0.04717371,  0.38266897,\n",
       "          0.02220777,  0.30246988, -0.32659104,  0.02866152,  0.01347333,\n",
       "          0.3617296 , -0.30379525, -0.1453219 ,  0.18357982,  0.1872904 ,\n",
       "         -0.3534186 ,  0.32792547, -0.14674321,  0.15970564,  0.03193846,\n",
       "         -0.14473353,  0.02965451]], dtype=float32),\n",
       " array([ 0.23995256, -0.12129346,  0.14997068, -0.03069953,  0.        ,\n",
       "         0.2413769 ,  0.21233553, -0.08302309, -0.10868237,  0.2063733 ,\n",
       "         0.2088042 ,  0.12100167,  0.24042013,  0.        , -0.09592525,\n",
       "         0.        ,  0.16486372,  0.        , -0.08442114,  0.        ,\n",
       "        -0.0992185 , -0.00133169,  0.        , -0.07406974,  0.26113757,\n",
       "         0.        , -0.10136505, -0.01706221,  0.21036363, -0.0585481 ,\n",
       "         0.        ,  0.25073472], dtype=float32),\n",
       " array([[ 0.6634271 , -0.845152  ],\n",
       "        [-0.37021545,  0.20280407],\n",
       "        [ 0.7624606 , -0.7426065 ],\n",
       "        [-0.08308498,  0.3582469 ],\n",
       "        [ 0.21216074, -0.09713936],\n",
       "        [ 0.73316395, -0.44282532],\n",
       "        [ 0.7917062 , -0.75285864],\n",
       "        [-0.3504124 ,  0.6908729 ],\n",
       "        [-0.289148  ,  0.20539284],\n",
       "        [ 0.7063136 , -0.89595526],\n",
       "        [ 0.7983393 , -0.42427984],\n",
       "        [ 0.16713075, -0.35247102],\n",
       "        [ 0.7335075 , -0.8977336 ],\n",
       "        [ 0.33648208,  0.06957525],\n",
       "        [-0.6915606 ,  0.38230374],\n",
       "        [ 0.16199222, -0.01331744],\n",
       "        [ 0.26080146, -0.671748  ],\n",
       "        [-0.01659983,  0.37820718],\n",
       "        [-0.4487457 ,  0.28139865],\n",
       "        [ 0.00437021,  0.35477343],\n",
       "        [-0.69209343,  0.4087392 ],\n",
       "        [-0.36633915, -0.36644682],\n",
       "        [-0.33225048, -0.4135643 ],\n",
       "        [-0.00154496,  0.277651  ],\n",
       "        [ 0.95914423, -0.14525713],\n",
       "        [-0.413129  ,  0.06080702],\n",
       "        [-0.677132  ,  0.32165697],\n",
       "        [ 0.36026758, -0.23277071],\n",
       "        [ 0.86557126, -0.8902793 ],\n",
       "        [-0.42315003,  0.57961154],\n",
       "        [-0.2506461 , -0.0652324 ],\n",
       "        [ 0.36876354, -0.8404796 ]], dtype=float32),\n",
       " array([ 0.09544303, -0.09544304], dtype=float32)]"
      ]
     },
     "execution_count": 33,
     "metadata": {},
     "output_type": "execute_result"
    }
   ],
   "source": [
    "model.get_weights()"
   ]
  },
  {
   "cell_type": "code",
   "execution_count": 35,
   "metadata": {},
   "outputs": [
    {
     "data": {
      "text/plain": [
       "<keras.optimizers.Adam at 0x1c425544240>"
      ]
     },
     "execution_count": 35,
     "metadata": {},
     "output_type": "execute_result"
    }
   ],
   "source": [
    "new_model.optimizer"
   ]
  },
  {
   "cell_type": "code",
   "execution_count": 40,
   "metadata": {},
   "outputs": [],
   "source": [
    "# model to_json\n",
    "# save only the architecture\n",
    "\n",
    "json_string = model.to_json() "
   ]
  },
  {
   "cell_type": "code",
   "execution_count": 41,
   "metadata": {},
   "outputs": [
    {
     "data": {
      "text/plain": [
       "'{\"class_name\": \"Sequential\", \"config\": {\"name\": \"sequential_1\", \"layers\": [{\"class_name\": \"Dense\", \"config\": {\"name\": \"dense_1\", \"trainable\": true, \"batch_input_shape\": [null, 1], \"dtype\": \"float32\", \"units\": 16, \"activation\": \"relu\", \"use_bias\": true, \"kernel_initializer\": {\"class_name\": \"VarianceScaling\", \"config\": {\"scale\": 1.0, \"mode\": \"fan_avg\", \"distribution\": \"uniform\", \"seed\": null}}, \"bias_initializer\": {\"class_name\": \"Zeros\", \"config\": {}}, \"kernel_regularizer\": null, \"bias_regularizer\": null, \"activity_regularizer\": null, \"kernel_constraint\": null, \"bias_constraint\": null}}, {\"class_name\": \"Dense\", \"config\": {\"name\": \"dense_2\", \"trainable\": true, \"units\": 32, \"activation\": \"relu\", \"use_bias\": true, \"kernel_initializer\": {\"class_name\": \"VarianceScaling\", \"config\": {\"scale\": 1.0, \"mode\": \"fan_avg\", \"distribution\": \"uniform\", \"seed\": null}}, \"bias_initializer\": {\"class_name\": \"Zeros\", \"config\": {}}, \"kernel_regularizer\": null, \"bias_regularizer\": null, \"activity_regularizer\": null, \"kernel_constraint\": null, \"bias_constraint\": null}}, {\"class_name\": \"Dense\", \"config\": {\"name\": \"dense_3\", \"trainable\": true, \"units\": 2, \"activation\": \"softmax\", \"use_bias\": true, \"kernel_initializer\": {\"class_name\": \"VarianceScaling\", \"config\": {\"scale\": 1.0, \"mode\": \"fan_avg\", \"distribution\": \"uniform\", \"seed\": null}}, \"bias_initializer\": {\"class_name\": \"Zeros\", \"config\": {}}, \"kernel_regularizer\": null, \"bias_regularizer\": null, \"activity_regularizer\": null, \"kernel_constraint\": null, \"bias_constraint\": null}}]}, \"keras_version\": \"2.2.4\", \"backend\": \"tensorflow\"}'"
      ]
     },
     "execution_count": 41,
     "metadata": {},
     "output_type": "execute_result"
    }
   ],
   "source": [
    "json_string"
   ]
  },
  {
   "cell_type": "code",
   "execution_count": 42,
   "metadata": {},
   "outputs": [],
   "source": [
    "# model reconstruction from json\n",
    "from keras.models import model_from_json\n",
    "\n",
    "model_architechture = model_from_json(json_string)\n"
   ]
  },
  {
   "cell_type": "code",
   "execution_count": 43,
   "metadata": {},
   "outputs": [
    {
     "name": "stdout",
     "output_type": "stream",
     "text": [
      "_________________________________________________________________\n",
      "Layer (type)                 Output Shape              Param #   \n",
      "=================================================================\n",
      "dense_1 (Dense)              (None, 16)                32        \n",
      "_________________________________________________________________\n",
      "dense_2 (Dense)              (None, 32)                544       \n",
      "_________________________________________________________________\n",
      "dense_3 (Dense)              (None, 2)                 66        \n",
      "=================================================================\n",
      "Total params: 642\n",
      "Trainable params: 642\n",
      "Non-trainable params: 0\n",
      "_________________________________________________________________\n"
     ]
    }
   ],
   "source": [
    "model_architechture.summary()"
   ]
  },
  {
   "cell_type": "code",
   "execution_count": 48,
   "metadata": {},
   "outputs": [],
   "source": [
    "# save only weight \n",
    "model.save_weights('model_weight.h5')"
   ]
  },
  {
   "cell_type": "code",
   "execution_count": 49,
   "metadata": {},
   "outputs": [],
   "source": [
    "model2 = Sequential([Dense(16, input_shape= (1,), activation='relu'),\n",
    "                    Dense(32, activation='relu'),\n",
    "                    Dense(2, activation='softmax')])"
   ]
  },
  {
   "cell_type": "code",
   "execution_count": 51,
   "metadata": {},
   "outputs": [],
   "source": [
    "model2.load_weights('model_weight.h5')"
   ]
  },
  {
   "cell_type": "code",
   "execution_count": 53,
   "metadata": {},
   "outputs": [
    {
     "data": {
      "text/plain": [
       "[<tf.Variable 'dense_7/kernel:0' shape=(1, 16) dtype=float32_ref>,\n",
       " <tf.Variable 'dense_7/bias:0' shape=(16,) dtype=float32_ref>,\n",
       " <tf.Variable 'dense_8/kernel:0' shape=(16, 32) dtype=float32_ref>,\n",
       " <tf.Variable 'dense_8/bias:0' shape=(32,) dtype=float32_ref>,\n",
       " <tf.Variable 'dense_9/kernel:0' shape=(32, 2) dtype=float32_ref>,\n",
       " <tf.Variable 'dense_9/bias:0' shape=(2,) dtype=float32_ref>]"
      ]
     },
     "execution_count": 53,
     "metadata": {},
     "output_type": "execute_result"
    }
   ],
   "source": [
    "model2.weights"
   ]
  },
  {
   "cell_type": "code",
   "execution_count": null,
   "metadata": {},
   "outputs": [],
   "source": []
  }
 ],
 "metadata": {
  "kernelspec": {
   "display_name": "Python 3",
   "language": "python",
   "name": "python3"
  },
  "language_info": {
   "codemirror_mode": {
    "name": "ipython",
    "version": 3
   },
   "file_extension": ".py",
   "mimetype": "text/x-python",
   "name": "python",
   "nbconvert_exporter": "python",
   "pygments_lexer": "ipython3",
   "version": "3.6.6"
  }
 },
 "nbformat": 4,
 "nbformat_minor": 2
}
