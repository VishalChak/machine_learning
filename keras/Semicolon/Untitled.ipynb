{
 "cells": [
  {
   "cell_type": "code",
   "execution_count": 109,
   "metadata": {},
   "outputs": [],
   "source": [
    "import os\n",
    "from PIL import Image\n",
    "import pandas as pd\n",
    "from keras.preprocessing.image import img_to_array\n",
    "import numpy as np\n",
    "from sklearn.model_selection import train_test_split"
   ]
  },
  {
   "cell_type": "code",
   "execution_count": 82,
   "metadata": {},
   "outputs": [],
   "source": [
    "base_path = \"C:\\\\Users\\\\vbaub\\\\Equinix\\\\datasets\\\\MNIST\\\\\"\n",
    "train_path = os.path.join(base_path,'Train\\\\Images\\\\train\\\\')\n",
    "train_file_path = os.path.join(base_path + \"Train\", 'train.csv' )"
   ]
  },
  {
   "cell_type": "code",
   "execution_count": 104,
   "metadata": {},
   "outputs": [],
   "source": [
    "def get_lebel(val):\n",
    "    val = int(val)\n",
    "    arr = np.zeros(10, dtype = np.int)\n",
    "    arr[ 9- val] = 1\n",
    "    return arr\n",
    "\n",
    "def create_train_dataset():\n",
    "    X = []\n",
    "    y = [] \n",
    "    \n",
    "    n = m = 50\n",
    "    \n",
    "    train_images = os.listdir(train_path)\n",
    "    train_label = pd.read_csv(train_file_path)\n",
    "    label_dict = dict(zip(train_label.filename, train_label.label))\n",
    "    \n",
    "    for img in train_images[:10]:\n",
    "        img_path = os.path.join(train_path, img)\n",
    "        im = Image.open(img_path)\n",
    "        im = im.resize((n, m))\n",
    "        im_arr = img_to_array(im)/255\n",
    "        X.append(im_arr)\n",
    "        y.append(get_lebel(label_dict[img]))\n",
    "    return X, y"
   ]
  },
  {
   "cell_type": "code",
   "execution_count": 105,
   "metadata": {},
   "outputs": [],
   "source": [
    "X,y = create_train_dataset()\n",
    "X_train, X_test, y_train, y_test = train_test_split(X, y)"
   ]
  },
  {
   "cell_type": "code",
   "execution_count": 110,
   "metadata": {},
   "outputs": [],
   "source": []
  },
  {
   "cell_type": "code",
   "execution_count": null,
   "metadata": {},
   "outputs": [],
   "source": []
  }
 ],
 "metadata": {
  "kernelspec": {
   "display_name": "Python 3",
   "language": "python",
   "name": "python3"
  },
  "language_info": {
   "codemirror_mode": {
    "name": "ipython",
    "version": 3
   },
   "file_extension": ".py",
   "mimetype": "text/x-python",
   "name": "python",
   "nbconvert_exporter": "python",
   "pygments_lexer": "ipython3",
   "version": "3.6.6"
  }
 },
 "nbformat": 4,
 "nbformat_minor": 2
}
