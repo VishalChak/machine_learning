{
 "cells": [
  {
   "cell_type": "code",
   "execution_count": 1,
   "metadata": {},
   "outputs": [],
   "source": [
    "import pandas as pd\n",
    "import spacy\n",
    "nlp = spacy.load('en')"
   ]
  },
  {
   "cell_type": "code",
   "execution_count": 4,
   "metadata": {},
   "outputs": [],
   "source": [
    "# Data path \n",
    "\n",
    "base_path = \"C:\\\\Users\\\\vbabu\\\\MStar\\Datasets\\\\sentiment_labelled_sentences\\\\\"\n",
    "yelp = base_path + \"yelp_labelled.txt\"\n",
    "imdb = base_path + \"imdb_labelled.txt\"\n",
    "amazon = base_path + \"amazon_cells_labelled.txt\""
   ]
  },
  {
   "cell_type": "code",
   "execution_count": 5,
   "metadata": {},
   "outputs": [],
   "source": [
    "# load data sets\n",
    "df_yelp = pd.read_table(yelp)\n",
    "df_imdb = pd.read_table(imdb)\n",
    "df_amz = pd.read_table(amazon)"
   ]
  },
  {
   "cell_type": "code",
   "execution_count": 7,
   "metadata": {},
   "outputs": [
    {
     "data": {
      "text/html": [
       "<div>\n",
       "<style scoped>\n",
       "    .dataframe tbody tr th:only-of-type {\n",
       "        vertical-align: middle;\n",
       "    }\n",
       "\n",
       "    .dataframe tbody tr th {\n",
       "        vertical-align: top;\n",
       "    }\n",
       "\n",
       "    .dataframe thead th {\n",
       "        text-align: right;\n",
       "    }\n",
       "</style>\n",
       "<table border=\"1\" class=\"dataframe\">\n",
       "  <thead>\n",
       "    <tr style=\"text-align: right;\">\n",
       "      <th></th>\n",
       "      <th>So there is no way for me to plug it in here in the US unless I go by a converter.</th>\n",
       "      <th>0</th>\n",
       "    </tr>\n",
       "  </thead>\n",
       "  <tbody>\n",
       "    <tr>\n",
       "      <th>0</th>\n",
       "      <td>Good case, Excellent value.</td>\n",
       "      <td>1</td>\n",
       "    </tr>\n",
       "    <tr>\n",
       "      <th>1</th>\n",
       "      <td>Great for the jawbone.</td>\n",
       "      <td>1</td>\n",
       "    </tr>\n",
       "    <tr>\n",
       "      <th>2</th>\n",
       "      <td>Tied to charger for conversations lasting more...</td>\n",
       "      <td>0</td>\n",
       "    </tr>\n",
       "    <tr>\n",
       "      <th>3</th>\n",
       "      <td>The mic is great.</td>\n",
       "      <td>1</td>\n",
       "    </tr>\n",
       "    <tr>\n",
       "      <th>4</th>\n",
       "      <td>I have to jiggle the plug to get it to line up...</td>\n",
       "      <td>0</td>\n",
       "    </tr>\n",
       "  </tbody>\n",
       "</table>\n",
       "</div>"
      ],
      "text/plain": [
       "  So there is no way for me to plug it in here in the US unless I go by a converter.  \\\n",
       "0                        Good case, Excellent value.                                   \n",
       "1                             Great for the jawbone.                                   \n",
       "2  Tied to charger for conversations lasting more...                                   \n",
       "3                                  The mic is great.                                   \n",
       "4  I have to jiggle the plug to get it to line up...                                   \n",
       "\n",
       "   0  \n",
       "0  1  \n",
       "1  1  \n",
       "2  0  \n",
       "3  1  \n",
       "4  0  "
      ]
     },
     "execution_count": 7,
     "metadata": {},
     "output_type": "execute_result"
    }
   ],
   "source": [
    "df_amz.head()"
   ]
  },
  {
   "cell_type": "code",
   "execution_count": 16,
   "metadata": {},
   "outputs": [],
   "source": [
    "# concatenate dataset\n",
    "frames = [df_yelp, df_imdb, df_amz]"
   ]
  },
  {
   "cell_type": "code",
   "execution_count": 17,
   "metadata": {},
   "outputs": [],
   "source": [
    "for colname in frames:\n",
    "    colname.columns = ['msg', 'target']"
   ]
  },
  {
   "cell_type": "code",
   "execution_count": 18,
   "metadata": {},
   "outputs": [
    {
     "name": "stdout",
     "output_type": "stream",
     "text": [
      "Index(['msg', 'target'], dtype='object')\n",
      "Index(['msg', 'target'], dtype='object')\n",
      "Index(['msg', 'target'], dtype='object')\n"
     ]
    }
   ],
   "source": [
    "for colname in frames:\n",
    "    print(colname.columns)"
   ]
  },
  {
   "cell_type": "code",
   "execution_count": 19,
   "metadata": {},
   "outputs": [],
   "source": [
    "keys = ['yelp', 'imdb', 'amz']"
   ]
  },
  {
   "cell_type": "code",
   "execution_count": 20,
   "metadata": {},
   "outputs": [],
   "source": [
    "df = pd.concat(frames, keys=keys)"
   ]
  },
  {
   "cell_type": "code",
   "execution_count": 21,
   "metadata": {},
   "outputs": [
    {
     "data": {
      "text/html": [
       "<div>\n",
       "<style scoped>\n",
       "    .dataframe tbody tr th:only-of-type {\n",
       "        vertical-align: middle;\n",
       "    }\n",
       "\n",
       "    .dataframe tbody tr th {\n",
       "        vertical-align: top;\n",
       "    }\n",
       "\n",
       "    .dataframe thead th {\n",
       "        text-align: right;\n",
       "    }\n",
       "</style>\n",
       "<table border=\"1\" class=\"dataframe\">\n",
       "  <thead>\n",
       "    <tr style=\"text-align: right;\">\n",
       "      <th></th>\n",
       "      <th></th>\n",
       "      <th>msg</th>\n",
       "      <th>target</th>\n",
       "    </tr>\n",
       "  </thead>\n",
       "  <tbody>\n",
       "    <tr>\n",
       "      <th rowspan=\"5\" valign=\"top\">yelp</th>\n",
       "      <th>0</th>\n",
       "      <td>Crust is not good.</td>\n",
       "      <td>0</td>\n",
       "    </tr>\n",
       "    <tr>\n",
       "      <th>1</th>\n",
       "      <td>Not tasty and the texture was just nasty.</td>\n",
       "      <td>0</td>\n",
       "    </tr>\n",
       "    <tr>\n",
       "      <th>2</th>\n",
       "      <td>Stopped by during the late May bank holiday of...</td>\n",
       "      <td>1</td>\n",
       "    </tr>\n",
       "    <tr>\n",
       "      <th>3</th>\n",
       "      <td>The selection on the menu was great and so wer...</td>\n",
       "      <td>1</td>\n",
       "    </tr>\n",
       "    <tr>\n",
       "      <th>4</th>\n",
       "      <td>Now I am getting angry and I want my damn pho.</td>\n",
       "      <td>0</td>\n",
       "    </tr>\n",
       "  </tbody>\n",
       "</table>\n",
       "</div>"
      ],
      "text/plain": [
       "                                                      msg  target\n",
       "yelp 0                                 Crust is not good.       0\n",
       "     1          Not tasty and the texture was just nasty.       0\n",
       "     2  Stopped by during the late May bank holiday of...       1\n",
       "     3  The selection on the menu was great and so wer...       1\n",
       "     4     Now I am getting angry and I want my damn pho.       0"
      ]
     },
     "execution_count": 21,
     "metadata": {},
     "output_type": "execute_result"
    }
   ],
   "source": [
    "df.head()"
   ]
  },
  {
   "cell_type": "code",
   "execution_count": 22,
   "metadata": {},
   "outputs": [
    {
     "data": {
      "text/plain": [
       "(2745, 2)"
      ]
     },
     "execution_count": 22,
     "metadata": {},
     "output_type": "execute_result"
    }
   ],
   "source": [
    "df.shape"
   ]
  },
  {
   "cell_type": "code",
   "execution_count": 23,
   "metadata": {},
   "outputs": [],
   "source": [
    "df.to_csv(base_path + \"sentinemtdataset.csv\")"
   ]
  },
  {
   "cell_type": "code",
   "execution_count": 24,
   "metadata": {},
   "outputs": [
    {
     "data": {
      "text/plain": [
       "Index(['msg', 'target'], dtype='object')"
      ]
     },
     "execution_count": 24,
     "metadata": {},
     "output_type": "execute_result"
    }
   ],
   "source": [
    "df.columns"
   ]
  },
  {
   "cell_type": "code",
   "execution_count": 26,
   "metadata": {},
   "outputs": [
    {
     "data": {
      "text/plain": [
       "msg       0\n",
       "target    0\n",
       "dtype: int64"
      ]
     },
     "execution_count": 26,
     "metadata": {},
     "output_type": "execute_result"
    }
   ],
   "source": [
    "df.isnull().sum()"
   ]
  },
  {
   "cell_type": "code",
   "execution_count": 27,
   "metadata": {},
   "outputs": [],
   "source": [
    "# working with spacy\n",
    "# 1. Remove stop word\n",
    "# 2. Lemmatizing\n"
   ]
  },
  {
   "cell_type": "code",
   "execution_count": 28,
   "metadata": {},
   "outputs": [],
   "source": [
    "from spacy.lang.en.stop_words import  STOP_WORDS\n",
    "stopword = list(STOP_WORDS)"
   ]
  },
  {
   "cell_type": "code",
   "execution_count": 29,
   "metadata": {},
   "outputs": [
    {
     "data": {
      "text/plain": [
       "['keep',\n",
       " 'his',\n",
       " 'whatever',\n",
       " 'such',\n",
       " 'anything',\n",
       " 'fifty',\n",
       " 'i',\n",
       " 'nine',\n",
       " 'some',\n",
       " 'themselves']"
      ]
     },
     "execution_count": 29,
     "metadata": {},
     "output_type": "execute_result"
    }
   ],
   "source": [
    "stopword[:10]"
   ]
  },
  {
   "cell_type": "code",
   "execution_count": 33,
   "metadata": {},
   "outputs": [
    {
     "name": "stdout",
     "output_type": "stream",
     "text": [
      "This Lemma=> this\n",
      "is Lemma=> be\n",
      "how Lemma=> how\n",
      "jhon Lemma=> jhon\n",
      "walker Lemma=> walker\n",
      "was Lemma=> be\n",
      "walking Lemma=> walk\n",
      ". Lemma=> .\n",
      "was Lemma=> be\n",
      "also Lemma=> also\n",
      "running Lemma=> run\n",
      "besides Lemma=> besides\n",
      "the Lemma=> the\n",
      "lawn Lemma=> lawn\n"
     ]
    }
   ],
   "source": [
    "# Lemmatizing\n",
    "docx = nlp(u'This is how jhon walker was walking. He was also running besides the lawn')\n",
    "for word in docx:\n",
    "    if word.lemma_ != '-PRON-':\n",
    "        print(word.text, 'Lemma=>', word.lemma_)"
   ]
  },
  {
   "cell_type": "code",
   "execution_count": 35,
   "metadata": {},
   "outputs": [
    {
     "data": {
      "text/plain": [
       "['this',\n",
       " 'be',\n",
       " 'how',\n",
       " 'jhon',\n",
       " 'walker',\n",
       " 'be',\n",
       " 'walk',\n",
       " '.',\n",
       " 'he',\n",
       " 'be',\n",
       " 'also',\n",
       " 'run',\n",
       " 'besides',\n",
       " 'the',\n",
       " 'lawn']"
      ]
     },
     "execution_count": 35,
     "metadata": {},
     "output_type": "execute_result"
    }
   ],
   "source": [
    "# list comprehansion for lemma\n",
    "[word.lemma_.lower().strip() if word.lemma_ != \"-PRON-\" else word.lower_ for word in docx]"
   ]
  },
  {
   "cell_type": "code",
   "execution_count": 36,
   "metadata": {},
   "outputs": [
    {
     "name": "stdout",
     "output_type": "stream",
     "text": [
      "This\n",
      "jhon\n",
      "walker\n",
      "walking\n",
      "He\n",
      "running\n",
      "lawn\n"
     ]
    }
   ],
   "source": [
    "# filtering out stopword and punchuation\n",
    "for word in docx:\n",
    "    if word.is_stop ==False and not word.is_punct:\n",
    "        print(word)\n"
   ]
  },
  {
   "cell_type": "code",
   "execution_count": 37,
   "metadata": {},
   "outputs": [
    {
     "data": {
      "text/plain": [
       "[This, jhon, walker, walking, He, running, lawn]"
      ]
     },
     "execution_count": 37,
     "metadata": {},
     "output_type": "execute_result"
    }
   ],
   "source": [
    "# list conprehancion for stopword and lemma\n",
    "\n",
    "[word for word in docx if word.is_stop ==False and not word.is_punct]"
   ]
  },
  {
   "cell_type": "code",
   "execution_count": 41,
   "metadata": {},
   "outputs": [],
   "source": [
    "# use puctuations of string module\n",
    "\n",
    "import string\n",
    "puctuations = string.punctuation\n",
    "\n",
    "# Create a spacy parser\n",
    "\n",
    "from spacy.lang.en import English\n",
    "parser = English()"
   ]
  },
  {
   "cell_type": "code",
   "execution_count": 42,
   "metadata": {},
   "outputs": [],
   "source": [
    "def spacy_tokenizer(sentence):\n",
    "    tkn = parser(sentence)\n",
    "    tkn = [word.lemma_.lower().strip() if word.lemma_ != \"-PRON-\" else word.lower_ for word in tkn]\n",
    "    tkn = [word for word in tkn if word not in stopword and word not in puctuations]\n",
    "    return tkn"
   ]
  },
  {
   "cell_type": "code",
   "execution_count": null,
   "metadata": {},
   "outputs": [],
   "source": [
    "# machine learning with sk_learn\n",
    "\n",
    "from sklearn.feature_extraction.text import  CountVectorizer, TfidfVectorizer\n",
    "from sklearn.metrics import accuracy_score\n",
    "from sklearn.base\n"
   ]
  }
 ],
 "metadata": {
  "kernelspec": {
   "display_name": "Python 3",
   "language": "python",
   "name": "python3"
  },
  "language_info": {
   "codemirror_mode": {
    "name": "ipython",
    "version": 3
   },
   "file_extension": ".py",
   "mimetype": "text/x-python",
   "name": "python",
   "nbconvert_exporter": "python",
   "pygments_lexer": "ipython3",
   "version": "3.6.6"
  }
 },
 "nbformat": 4,
 "nbformat_minor": 2
}
