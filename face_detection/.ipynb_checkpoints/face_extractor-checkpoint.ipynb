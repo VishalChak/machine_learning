{
 "cells": [
  {
   "cell_type": "code",
   "execution_count": 28,
   "metadata": {},
   "outputs": [],
   "source": [
    "import cv2\n",
    "import os"
   ]
  },
  {
   "cell_type": "code",
   "execution_count": 29,
   "metadata": {},
   "outputs": [],
   "source": [
    "def cascade_detect(cascade, image):\n",
    "    gray_image = cv2.cvtColor(image, cv2.COLOR_BGR2GRAY)\n",
    "    faces = cascade.detectMultiScale( gray_image, scaleFactor = 1.15, minNeighbors = 5, minSize = (30, 30), flags = cv2.CASCADE_SCALE_IMAGE)\n",
    "    #print (\"Found faces {0}\".format(len(faces)))\n",
    "    return faces"
   ]
  },
  {
   "cell_type": "code",
   "execution_count": 30,
   "metadata": {},
   "outputs": [],
   "source": [
    "def crope_faces(image, faces):\n",
    "    image_faces = []\n",
    "    for (x, y, w, h) in faces:\n",
    "        img = image\n",
    "        print(x,y,w,h)\n",
    "        crop_img = img[y:y+h, x:x+w]\n",
    "        image_faces.append(crop_img)\n",
    "    return image_faces"
   ]
  },
  {
   "cell_type": "code",
   "execution_count": 32,
   "metadata": {},
   "outputs": [
    {
     "name": "stdout",
     "output_type": "stream",
     "text": [
      "649 160 214 214\n",
      "146 272 298 298\n",
      "544 962 55 55\n"
     ]
    }
   ],
   "source": [
    "base_path = os.getcwd()\n",
    "\n",
    "cascPath = os.path.join(base_path, \"haarcascade_frontalface_default.xml\")\n",
    "faceCascade = cv2.CascadeClassifier(cascPath)\n",
    "\n",
    "img_path = os.path.join(base_path , 'komal.jpg')\n",
    "img = cv2.imread(img_path)\n",
    "\n",
    "faces = cascade_detect(faceCascade, img)\n",
    "image_faces = crope_faces(img, faces)\n",
    "\n",
    "for indx , face in enumerate(image_faces):\n",
    "    #cv2.imshow(str(indx), face)\n",
    "    cv2.imwrite(os.path.join(base_path,'faces_',str(indx)+'.jpg'), face)\n",
    "    #cv2.waitKey(0)"
   ]
  },
  {
   "cell_type": "code",
   "execution_count": null,
   "metadata": {},
   "outputs": [],
   "source": []
  }
 ],
 "metadata": {
  "kernelspec": {
   "display_name": "Python 3",
   "language": "python",
   "name": "python3"
  },
  "language_info": {
   "codemirror_mode": {
    "name": "ipython",
    "version": 3
   },
   "file_extension": ".py",
   "mimetype": "text/x-python",
   "name": "python",
   "nbconvert_exporter": "python",
   "pygments_lexer": "ipython3",
   "version": "3.6.6"
  }
 },
 "nbformat": 4,
 "nbformat_minor": 2
}
