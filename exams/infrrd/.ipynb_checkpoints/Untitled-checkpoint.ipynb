{
 "cells": [
  {
   "cell_type": "code",
   "execution_count": 3,
   "metadata": {},
   "outputs": [
    {
     "data": {
      "text/html": [
       "<div>\n",
       "<style scoped>\n",
       "    .dataframe tbody tr th:only-of-type {\n",
       "        vertical-align: middle;\n",
       "    }\n",
       "\n",
       "    .dataframe tbody tr th {\n",
       "        vertical-align: top;\n",
       "    }\n",
       "\n",
       "    .dataframe thead th {\n",
       "        text-align: right;\n",
       "    }\n",
       "</style>\n",
       "<table border=\"1\" class=\"dataframe\">\n",
       "  <thead>\n",
       "    <tr style=\"text-align: right;\">\n",
       "      <th></th>\n",
       "      <th>purchasing_cost</th>\n",
       "      <th>repair_cost</th>\n",
       "      <th>windows</th>\n",
       "      <th>people</th>\n",
       "      <th>space</th>\n",
       "      <th>safety</th>\n",
       "      <th>label</th>\n",
       "    </tr>\n",
       "  </thead>\n",
       "  <tbody>\n",
       "    <tr>\n",
       "      <th>0</th>\n",
       "      <td>high</td>\n",
       "      <td>very_high</td>\n",
       "      <td>5more</td>\n",
       "      <td>more</td>\n",
       "      <td>medium</td>\n",
       "      <td>med</td>\n",
       "      <td>unacceptable</td>\n",
       "    </tr>\n",
       "    <tr>\n",
       "      <th>1</th>\n",
       "      <td>very_high</td>\n",
       "      <td>medium</td>\n",
       "      <td>4</td>\n",
       "      <td>more</td>\n",
       "      <td>big</td>\n",
       "      <td>low</td>\n",
       "      <td>unacceptable</td>\n",
       "    </tr>\n",
       "    <tr>\n",
       "      <th>2</th>\n",
       "      <td>medium</td>\n",
       "      <td>medium</td>\n",
       "      <td>5more</td>\n",
       "      <td>4</td>\n",
       "      <td>medium</td>\n",
       "      <td>low</td>\n",
       "      <td>unacceptable</td>\n",
       "    </tr>\n",
       "    <tr>\n",
       "      <th>3</th>\n",
       "      <td>high</td>\n",
       "      <td>high</td>\n",
       "      <td>2</td>\n",
       "      <td>more</td>\n",
       "      <td>medium</td>\n",
       "      <td>high</td>\n",
       "      <td>acceptable</td>\n",
       "    </tr>\n",
       "    <tr>\n",
       "      <th>4</th>\n",
       "      <td>high</td>\n",
       "      <td>very_high</td>\n",
       "      <td>5more</td>\n",
       "      <td>2</td>\n",
       "      <td>big</td>\n",
       "      <td>high</td>\n",
       "      <td>unacceptable</td>\n",
       "    </tr>\n",
       "  </tbody>\n",
       "</table>\n",
       "</div>"
      ],
      "text/plain": [
       "  purchasing_cost repair_cost windows people   space safety         label\n",
       "0            high   very_high   5more   more  medium    med  unacceptable\n",
       "1       very_high      medium       4   more     big    low  unacceptable\n",
       "2          medium      medium   5more      4  medium    low  unacceptable\n",
       "3            high        high       2   more  medium   high    acceptable\n",
       "4            high   very_high   5more      2     big   high  unacceptable"
      ]
     },
     "execution_count": 3,
     "metadata": {},
     "output_type": "execute_result"
    }
   ],
   "source": [
    "import pandas as pd\n",
    "\n",
    "base_path = \"/home/vishal/datasets/exams/Infrrd/\"\n",
    "train_path = base_path+ \"train.csv\"\n",
    "test_path = base_path +\"test.csv\"\n",
    "\n",
    "dataset = pd.read_csv(train_path)\n",
    "dataset.head()"
   ]
  },
  {
   "cell_type": "code",
   "execution_count": 19,
   "metadata": {},
   "outputs": [
    {
     "data": {
      "text/plain": [
       "unacceptable    974\n",
       "acceptable      298\n",
       "very_good        56\n",
       "good             54\n",
       "Name: label, dtype: int64"
      ]
     },
     "execution_count": 19,
     "metadata": {},
     "output_type": "execute_result"
    }
   ],
   "source": [
    "#dataset.dtypes\n",
    "#dataset.shape   (1382, 7)\n",
    "#dataset.describe()\n",
    "\n",
    "#dataset['purchasing_cost'].value_counts(dropna =False)\n",
    "#dataset['repair_cost'].value_counts(dropna =False)\n",
    "#dataset['windows'].value_counts(dropna =False)\n",
    "#dataset['people'].value_counts(dropna =False)\n",
    "#dataset['space'].value_counts(dropna =False)\n",
    "#dataset['safety'].value_counts(dropna =False)\n",
    "dataset['label'].value_counts(dropna =False)"
   ]
  },
  {
   "cell_type": "code",
   "execution_count": null,
   "metadata": {},
   "outputs": [],
   "source": []
  },
  {
   "cell_type": "code",
   "execution_count": null,
   "metadata": {},
   "outputs": [],
   "source": []
  }
 ],
 "metadata": {
  "kernelspec": {
   "display_name": "Python 3",
   "language": "python",
   "name": "python3"
  },
  "language_info": {
   "codemirror_mode": {
    "name": "ipython",
    "version": 3
   },
   "file_extension": ".py",
   "mimetype": "text/x-python",
   "name": "python",
   "nbconvert_exporter": "python",
   "pygments_lexer": "ipython3",
   "version": "3.6.4"
  }
 },
 "nbformat": 4,
 "nbformat_minor": 2
}
