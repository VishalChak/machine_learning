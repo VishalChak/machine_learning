{
 "cells": [
  {
   "cell_type": "code",
   "execution_count": 44,
   "metadata": {},
   "outputs": [],
   "source": [
    "# Load the package\n",
    "\n",
    "from rasa_nlu.training_data import  load_data\n",
    "from rasa_nlu.config import RasaNLUModelConfig\n",
    "from rasa_nlu.model import Trainer\n",
    "from rasa_nlu import config"
   ]
  },
  {
   "cell_type": "code",
   "execution_count": 45,
   "metadata": {},
   "outputs": [],
   "source": [
    "# Load the data set\n",
    "#!cat rasa_dataset.json"
   ]
  },
  {
   "cell_type": "code",
   "execution_count": 46,
   "metadata": {},
   "outputs": [],
   "source": [
    "train_data = load_data('rasa_dataset.json')"
   ]
  },
  {
   "cell_type": "code",
   "execution_count": 47,
   "metadata": {},
   "outputs": [],
   "source": [
    "#configure backend using sklearn as spacy\n",
    "\n",
    "trainer = Trainer(config.load('config_spacy.yaml'))"
   ]
  },
  {
   "cell_type": "code",
   "execution_count": 48,
   "metadata": {},
   "outputs": [
    {
     "name": "stdout",
     "output_type": "stream",
     "text": [
      "Fitting 2 folds for each of 6 candidates, totalling 12 fits\n"
     ]
    },
    {
     "name": "stderr",
     "output_type": "stream",
     "text": [
      "[Parallel(n_jobs=1)]: Done  12 out of  12 | elapsed:    0.0s finished\n"
     ]
    },
    {
     "data": {
      "text/plain": [
       "<rasa_nlu.model.Interpreter at 0x131f5722160>"
      ]
     },
     "execution_count": 48,
     "metadata": {},
     "output_type": "execute_result"
    }
   ],
   "source": [
    "# Training data\n",
    "trainer.train(train_data)"
   ]
  },
  {
   "cell_type": "code",
   "execution_count": 49,
   "metadata": {},
   "outputs": [],
   "source": [
    "model_directory = trainer.persist('/projects/')"
   ]
  },
  {
   "cell_type": "code",
   "execution_count": 50,
   "metadata": {},
   "outputs": [],
   "source": [
    "## Pridiction\n",
    "\n",
    "from rasa_nlu.model import  Metadata, Interpreter\n",
    "interpreter = Interpreter.load(model_directory)"
   ]
  },
  {
   "cell_type": "code",
   "execution_count": 51,
   "metadata": {},
   "outputs": [
    {
     "data": {
      "text/plain": [
       "{'intent': {'name': 'restaurant_search', 'confidence': 0.7162315218797031},\n",
       " 'entities': [{'start': 17,\n",
       "   'end': 23,\n",
       "   'value': 'indian',\n",
       "   'entity': 'cuisine',\n",
       "   'confidence': 0.7093959073991214,\n",
       "   'extractor': 'ner_crf'}],\n",
       " 'intent_ranking': [{'name': 'restaurant_search',\n",
       "   'confidence': 0.7162315218797031},\n",
       "  {'name': 'affirm', 'confidence': 0.1426075276218146},\n",
       "  {'name': 'goodbye', 'confidence': 0.048020742206405224},\n",
       "  {'name': 'greet', 'confidence': 0.04740867344192422},\n",
       "  {'name': 'finance', 'confidence': 0.04573153485015269}],\n",
       " 'text': 'I am looking for indian restaurant where i can eat'}"
      ]
     },
     "execution_count": 51,
     "metadata": {},
     "output_type": "execute_result"
    }
   ],
   "source": [
    "interpreter.parse(u'I am looking for indian restaurant where i can eat')"
   ]
  },
  {
   "cell_type": "code",
   "execution_count": 55,
   "metadata": {},
   "outputs": [
    {
     "data": {
      "text/plain": [
       "{'intent': {'name': 'finance', 'confidence': 0.4725149214521475},\n",
       " 'entities': [],\n",
       " 'intent_ranking': [{'name': 'finance', 'confidence': 0.4725149214521475},\n",
       "  {'name': 'restaurant_search', 'confidence': 0.28843350626503483},\n",
       "  {'name': 'affirm', 'confidence': 0.0978711162626841},\n",
       "  {'name': 'goodbye', 'confidence': 0.0706445178073627},\n",
       "  {'name': 'greet', 'confidence': 0.07053593821277032}],\n",
       " 'text': 'saving account balanc'}"
      ]
     },
     "execution_count": 55,
     "metadata": {},
     "output_type": "execute_result"
    }
   ],
   "source": [
    "interpreter.parse(u'saving account balance')"
   ]
  },
  {
   "cell_type": "code",
   "execution_count": 11,
   "metadata": {},
   "outputs": [
    {
     "data": {
      "text/plain": [
       "{'intent': {'name': 'restaurant_search', 'confidence': 0.47251117576601803},\n",
       " 'entities': [{'start': 11,\n",
       "   'end': 17,\n",
       "   'value': 'indian',\n",
       "   'entity': 'cuisine',\n",
       "   'confidence': 0.7501003540997204,\n",
       "   'extractor': 'ner_crf'}],\n",
       " 'intent_ranking': [{'name': 'restaurant_search',\n",
       "   'confidence': 0.47251117576601803},\n",
       "  {'name': 'affirm', 'confidence': 0.21871348401450946},\n",
       "  {'name': 'goodbye', 'confidence': 0.15661548972788278},\n",
       "  {'name': 'greet', 'confidence': 0.15215985049159}],\n",
       " 'text': 'Hey I want indian spot to eat'}"
      ]
     },
     "execution_count": 11,
     "metadata": {},
     "output_type": "execute_result"
    }
   ],
   "source": [
    "interpreter.parse(u'Hey I want indian spot to eat')"
   ]
  },
  {
   "cell_type": "code",
   "execution_count": 24,
   "metadata": {},
   "outputs": [
    {
     "data": {
      "text/plain": [
       "{'intent': {'name': 'restaurant_search', 'confidence': 0.6286259639729508},\n",
       " 'entities': [{'start': 34,\n",
       "   'end': 39,\n",
       "   'value': 'north',\n",
       "   'entity': 'location',\n",
       "   'confidence': 0.6631531370515076,\n",
       "   'extractor': 'ner_crf'},\n",
       "  {'start': 40,\n",
       "   'end': 46,\n",
       "   'value': 'indian',\n",
       "   'entity': 'cuisine',\n",
       "   'confidence': 0.821248012703766,\n",
       "   'extractor': 'ner_crf'}],\n",
       " 'intent_ranking': [{'name': 'restaurant_search',\n",
       "   'confidence': 0.6286259639729508},\n",
       "  {'name': 'affirm', 'confidence': 0.18850346092318107},\n",
       "  {'name': 'greet', 'confidence': 0.09877523428256246},\n",
       "  {'name': 'goodbye', 'confidence': 0.08409534082130575}],\n",
       " 'text': 'Hey I am vishal chak. Looking for north indian food'}"
      ]
     },
     "execution_count": 24,
     "metadata": {},
     "output_type": "execute_result"
    }
   ],
   "source": [
    "interpreter.parse(u\"Hey I am vishal chak. Looking for north indian food\")"
   ]
  },
  {
   "cell_type": "code",
   "execution_count": 27,
   "metadata": {},
   "outputs": [
    {
     "data": {
      "text/plain": [
       "40"
      ]
     },
     "execution_count": 27,
     "metadata": {},
     "output_type": "execute_result"
    }
   ],
   "source": [
    "# experiment\n",
    "text = \"Hey I am vishal chak. Looking for north indian food\"\n",
    "text.find('north')\n",
    "text.find('indian')"
   ]
  },
  {
   "cell_type": "code",
   "execution_count": 1,
   "metadata": {},
   "outputs": [],
   "source": [
    "## Let's see what spacy does in rasa_nlu\n",
    "\n",
    "import spacy\n",
    "nlp = spacy.load('en')\n",
    "\n",
    "docx = nlp(u'I am looking for an Italian Restaurant where i can eat')"
   ]
  },
  {
   "cell_type": "code",
   "execution_count": 2,
   "metadata": {},
   "outputs": [
    {
     "name": "stdout",
     "output_type": "stream",
     "text": [
      "value Italian entity NORP start 20 end 27\n"
     ]
    }
   ],
   "source": [
    "for word in docx.ents:\n",
    "    print(\"value\", word.text, \"entity\", word.label_, \"start\", word.start_char, 'end', word.end_char)"
   ]
  },
  {
   "cell_type": "code",
   "execution_count": null,
   "metadata": {},
   "outputs": [],
   "source": []
  }
 ],
 "metadata": {
  "kernelspec": {
   "display_name": "Python 3",
   "language": "python",
   "name": "python3"
  },
  "language_info": {
   "codemirror_mode": {
    "name": "ipython",
    "version": 3
   },
   "file_extension": ".py",
   "mimetype": "text/x-python",
   "name": "python",
   "nbconvert_exporter": "python",
   "pygments_lexer": "ipython3",
   "version": "3.6.6"
  }
 },
 "nbformat": 4,
 "nbformat_minor": 2
}
