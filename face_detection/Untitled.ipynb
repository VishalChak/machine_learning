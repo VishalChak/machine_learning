{
 "cells": [
  {
   "cell_type": "code",
   "execution_count": 1,
   "metadata": {},
   "outputs": [],
   "source": [
    "import cv2\n",
    "import os\n",
    "base_path = \"C:\\\\Users\\\\vbaub\\\\Equinix\\\\vishal\\\\FaceDetect\\\\\""
   ]
  },
  {
   "cell_type": "code",
   "execution_count": 2,
   "metadata": {},
   "outputs": [],
   "source": [
    "image_name = \"komal.jpg\"\n",
    "imagePath =  os.path.join(base_path, image_name)\n",
    "cascPath = os.path.join(base_path, \"haarcascade_frontalface_default.xml\")"
   ]
  },
  {
   "cell_type": "code",
   "execution_count": 3,
   "metadata": {},
   "outputs": [],
   "source": [
    "def cascade_detect(cascade, image):\n",
    "    gray_image = cv2.cvtColor(image, cv2.COLOR_BGR2GRAY)\n",
    "    faces = cascade.detectMultiScale( gray_image, scaleFactor = 1.15, minNeighbors = 5, minSize = (30, 30), flags = cv2.CASCADE_SCALE_IMAGE)\n",
    "    print (\"Found faces {0}\".format(len(faces)))\n",
    "    return faces"
   ]
  },
  {
   "cell_type": "code",
   "execution_count": 4,
   "metadata": {},
   "outputs": [],
   "source": [
    "def detections_draw(image, faces):\n",
    "    for (x, y, w, h) in faces:\n",
    "        print (\"({0}, {1}, {2}, {3})\".format(x, y, w, h))\n",
    "        cv2.rectangle(image, (x, y), (x + w, y + h), (0, 255, 0), 2)\n",
    "    return image"
   ]
  },
  {
   "cell_type": "code",
   "execution_count": 9,
   "metadata": {},
   "outputs": [
    {
     "name": "stdout",
     "output_type": "stream",
     "text": [
      "Found faces 3\n",
      "(649, 160, 214, 214)\n",
      "(146, 272, 298, 298)\n",
      "(544, 962, 55, 55)\n"
     ]
    },
    {
     "data": {
      "text/plain": [
       "-1"
      ]
     },
     "execution_count": 9,
     "metadata": {},
     "output_type": "execute_result"
    }
   ],
   "source": [
    "faceCascade = cv2.CascadeClassifier(cascPath)\n",
    "image = cv2.imread(imagePath)\n",
    "faces = cascade_detect(faceCascade, image)\n",
    "image = detections_draw(image, faces)\n",
    "cv2.imwrite(os.path.join(base_path, \"detected_\",image_name), image)\n",
    "cv2.imshow(\"Faces found\", image)\n",
    "cv2.waitKey(0)"
   ]
  },
  {
   "cell_type": "code",
   "execution_count": null,
   "metadata": {},
   "outputs": [],
   "source": []
  },
  {
   "cell_type": "code",
   "execution_count": null,
   "metadata": {},
   "outputs": [],
   "source": []
  }
 ],
 "metadata": {
  "kernelspec": {
   "display_name": "Python 3",
   "language": "python",
   "name": "python3"
  },
  "language_info": {
   "codemirror_mode": {
    "name": "ipython",
    "version": 3
   },
   "file_extension": ".py",
   "mimetype": "text/x-python",
   "name": "python",
   "nbconvert_exporter": "python",
   "pygments_lexer": "ipython3",
   "version": "3.6.6"
  }
 },
 "nbformat": 4,
 "nbformat_minor": 2
}
