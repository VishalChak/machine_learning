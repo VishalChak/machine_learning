{
 "cells": [
  {
   "cell_type": "code",
   "execution_count": 167,
   "metadata": {},
   "outputs": [],
   "source": [
    "from Bio import Entrez\n",
    "def search(query):\n",
    "    Entrez.email = 'vishalbabu.in@gmail.com'\n",
    "    handle = Entrez.esearch(db='pubmed',sort='relevance',retmax='20',retmode='xml',term=query)\n",
    "    results = Entrez.read(handle)\n",
    "    return results"
   ]
  },
  {
   "cell_type": "code",
   "execution_count": 168,
   "metadata": {},
   "outputs": [],
   "source": [
    "def fetch_details(id_list):\n",
    "    ids = ','.join(id_list)\n",
    "    Entrez.email = 'vishalbabu.in@gmail.com'\n",
    "    handle = Entrez.efetch(db='pubmed',retmode='xml',id=ids)\n",
    "    results = Entrez.read(handle)\n",
    "    return results"
   ]
  },
  {
   "cell_type": "code",
   "execution_count": 169,
   "metadata": {},
   "outputs": [],
   "source": [
    "results = search('neurodegenerative diseases')\n",
    "id_list = results['IdList']\n",
    "papers = fetch_details(id_list)"
   ]
  },
  {
   "cell_type": "code",
   "execution_count": 170,
   "metadata": {},
   "outputs": [],
   "source": [
    "abstracts = []\n",
    "for i in range(len(papers['PubmedArticle'])):\n",
    "    abstracts.append(papers['PubmedArticle'][i]['MedlineCitation']['Article']['Abstract']['AbstractText'][0])"
   ]
  },
  {
   "cell_type": "code",
   "execution_count": 171,
   "metadata": {},
   "outputs": [
    {
     "name": "stdout",
     "output_type": "stream",
     "text": [
      "1: Neurodegenerative diseases constitute a major problem of public health that is associated with an increased risk of mortality and poor quality of life. Malnutrition is considered as a major problem that worsens the prognosis of patients suffering from neurodegenerative diseases. In this aspect, the present review is aimed to critically collect and summarize all the available existing clinical data regarding the clinical impact of nutritional assessment in neurodegenerative diseases, highlighting on the crucial role of nutritional status in disease progression and management. According to the currently available clinical data, the nutritional status of patients seems to play a very important role in the development and progression of neurodegenerative diseases. A correct nutritional evaluation of neurodegenerative disease patients and a right nutrition intervention is essential in monitoring their disease.\n",
      "2: Neuroinflammation is a crucial mechanism in the pathophysiology of neurodegenerative diseases pathophysiology. Cerebrospinal fluid (CSF) YKL-40 - an indicator of microglial activation - has recently been identified by proteomic studies as a candidate biomarker for Alzheimer's disease (AD). Areas covered: We review the impact of CSF YKL-40 as a pathophysiological biomarker for AD and other neurodegenerative diseases. CSF YKL-40 concentrations have been shown to predict progression from prodromal mild cognitive impairment to AD dementia. Moreover, a positive association between CSF YKL-40 and other biomarkers of neurodegeneration - particularly total tau protein - has been reported during the asymptomatic preclinical stage of AD and other neurodegenerative diseases. Albeit preliminary, current data do not support an association between APOE-ε4 status and CSF YKL-40 concentrations. When interpreting the diagnostic/prognostic significance of CSF YKL-40 concentrations in neurodegenerative diseases, potential confounders - including age, metabolic and cardiovascular risk factors, diagnostic criteria for selecting cases/controls - need to be considered. Expert opinion/commentary: CSF YKL-40 represents a pathophysiological biomarker reflecting immune/inflammatory mechanisms in neurodegenerative diseases, associated with tau protein pathology. Besides being associated with tau pathology, CSF YKL-40 adds to the growing array of biomarkers reflecting distinct molecular brain mechanisms potentially useful for stratifying individuals for biomarker-guided, targeted anti-inflammatory therapies emerging from precision medicine.\n",
      "3: The increased incidence of neurodegenerative diseases represents a huge challenge for societies. These diseases are characterized by neuronal death and include several different pathologies, such as Alzheimer's disease, Parkinson's disease, multiple sclerosis, Huntington's disease and transmissible spongiform encephalopathies. Most of these pathologies are often associated with the aggregation of misfolded proteins, such as amyloid-ß, tau, α-synuclein, huntingtin and prion proteins. However, the precise mechanisms that lead to neuronal dysfunction and death in these diseases remain poorly understood. Nucleic acid aptamers represent a new class of ligands that could be useful to better understand these diseases and develop better diagnosis and therapy. In this review, several of these aptamers are presented as well as their applications for neurodegenerative diseases.\n",
      "4: The International Working Group recommended the Free and Cued Selective Reminding Test (FCSRT) as a sensitive detector of the amnesic syndrome of the hippocampal type in typical Alzheimer's disease (AD). But does it differentiate AD from other neurodegenerative diseases?\n",
      "5: There is mounting urgency to find new drugs for the treatment of neurodegenerative disorders. A large number of reviews have exhaustively described either the molecular or clinical aspects of neurodegenerative diseases such as Alzheimer's (AD) and Parkinson's (PD). Conversely, reports outlining how known drugs in use for other diseases can also be effective as therapeutic agents in neurodegenerative diseases are less reported. This review focuses on the current uses of some copper(II) chelating molecules as potential drug candidates in neurodegeneration.\n",
      "6: More than 600 human disorders afflict the nervous system. Of these, neurodegenerative diseases are usually characterised by onset in late adulthood, progressive clinical course, and neuronal loss with regional specificity in the central nervous system. They include Alzheimer's disease and other less frequent dementias, brain cancer, degenerative nerve diseases, encephalitis, epilepsy, genetic brain disorders, head and brain malformations, hydrocephalus, stroke, Parkinson's disease, multiple sclerosis, amyotrophic lateral sclerosis (ALS or Lou Gehrig's Disease), Huntington's disease, and Prion diseases, among others. Neurodegeneration usually affects, but is not limited to, the cerebral cortex, intracranial white matter, basal ganglia, thalamus, hypothalamus, brain stem, and cerebellum. Although the majority of neurodegenerative diseases are sporadic, Mendelian inheritance is well documented. Intriguingly, the clinical presentations and neuropathological findings in inherited neurodegenerative forms are often indistinguishable from those of sporadic cases, suggesting that converging genomic signatures and pathophysiologic mechanisms underlie both hereditary and sporadic neurodegenerative diseases. Unfortunately, effective therapies for these diseases are scarce to non-existent. In this chapter, we highlight the clinical and genetic features associated with the rare inherited forms of neurodegenerative diseases, including ataxias, multiple system atrophy, spastic paraplegias, Parkinson's disease, dementias, motor neuron diseases, and rare metabolic disorders.\n",
      "7: A large body of studies characterized the renal and cardiovascular effects of the peptides of the renin-angiotensin system (RAS). We now recognize that, in addition to angiotensin (Ang) II and Ang III, other peptides, such as, Ang-(1-7), Ang-(1-9), Ang IV and Alamandine can mediate actions of the RAS in different tissues, including the brain. Effects elicited by angiotensins in the brain are complex, site specific and dependent on the interaction with selective receptors, angiotensin type 1 receptor (AT1), AT2, Mas or MrgD, which present widespread distribution in the central nervous system. Although the majority of studies indicate a neuroprotective action for the inhibition of angiotensin converting enzyme or blockade of AT1 receptor, recent studies point to the participation of other angiotensin peptides in the pathophysiology of the neurodegenerative diseases.\n",
      "8: Over the past decades, cell apoptosis has been significantly reputed as an accidental, redundant and alternative manner of cell demise which partakes in homeostasis in the development of extensive diseases. Nevertheless, necroptosis, another novel manner of cell death through a caspase-independent way, especially in neurodegenerative diseases remains ambiguous. The cognition of this form of cell demise is helpful to understand other forms of morphological resemblance of necrosis. Additionally, the concrete signal mechanism in the regulation of necroptosis is beneficial to the diagnosis and treatment of neurodegenerative diseases. Recent studies have demonstrated that necroptotic inhibitor, 24(S)-Hydroxycholesterol and partial specific histone deacetylase inhibitors could alleviate pathogenetic conditions of neurodegenerative diseases via necroptosis pathway. In this review, we summarize recent researches about mechanisms and modulation of necroptotic signaling pathways and probe into the role of programmed necroptotic cell demise in neurodegenerative diseases such as Parkinson's disease, Multiple sclerosis, Amyotrophic lateral sclerosis.\n",
      "9: Extensive studies have reported the significant roles of numerous cellular features and processes in properly maintaining neuronal morphology and function throughout the lifespan of an animal. Any alterations in their homeostasis appear to be strongly associated with neuronal aging and the pathogenesis of various neurodegenerative diseases, even before the occurrence of prominent neuronal death. However, until recently, the primary focus of studies regarding many neurodegenerative diseases has been on the massive cell death occurring at the late stages of disease progression. Thus, our understanding on early neuropathy in these diseases remains relatively limited. The complicated nature of various neuropathic features manifested early in neurodegenerative diseases suggests the involvement of a system-wide transcriptional regulation and epigenetic control. Epigenetic alterations and consequent changes in the neuronal transcriptome are now begun to be extensively studied in various neurodegenerative diseases. Upon the catastrophic incident of neuronal death in disease progression, it is utterly difficult to reverse the deleterious defects by pharmacological treatments, and therefore, therapeutics targeting the system-wide transcriptional dysregulation associated with specific early neuropathy is considered a better option. Here, we review our current understanding on the system-wide transcriptional dysregulation that is likely associated with early neuropathy shown in various neurodegenerative diseases and discuss the possible future developments of pharmaceutical therapeutics.\n",
      "10: Asparagine endopeptidase (AEP) is a pH-dependent endolysosomal cysteine protease that cleaves its substrates after asparagine residues. Our most recent study identifies that it possesses the delta-secretase activity, and that it is implicated in numerous neurological diseases such as Alzheimer's disease (AD) and stroke. Accumulating evidence supports that the inhibition of AEP exhibits beneficial effects for treating these devastating diseases.\n"
     ]
    }
   ],
   "source": [
    "# First 10 abstracts\n",
    "for i in range(10):\n",
    "    print('{0}: {1}'.format(i+1, abstracts[i]))"
   ]
  },
  {
   "cell_type": "code",
   "execution_count": 172,
   "metadata": {},
   "outputs": [],
   "source": [
    "# remove special characters\n",
    "import re\n",
    "for i in range(len(abstracts)):\n",
    "    abstracts[i] = re.sub('[^A-Za-z0-9 ]+', '', abstracts[i])\n",
    "    abstracts[i] = \" \".join(abstracts[i].split())"
   ]
  },
  {
   "cell_type": "code",
   "execution_count": 173,
   "metadata": {},
   "outputs": [
    {
     "name": "stdout",
     "output_type": "stream",
     "text": [
      "of :  133\n",
      "the :  131\n",
      "and :  111\n",
      "in :  79\n",
      "diseases :  75\n",
      "neurodegenerative :  64\n",
      "to :  42\n",
      "a :  34\n",
      "as :  33\n",
      "is :  31\n"
     ]
    }
   ],
   "source": [
    "# most frequently occurring words\n",
    "import collections\n",
    "\n",
    "wordcount = {}\n",
    "words = \" \".join(abstracts)\n",
    "words = words.split()\n",
    "for word in words:\n",
    "    if word not in wordcount:\n",
    "        wordcount[word] = 1\n",
    "    else:\n",
    "        wordcount[word] += 1\n",
    "\n",
    "word_counter = collections.Counter(wordcount)\n",
    "for word, count in word_counter.most_common(10):\n",
    "    print(word, \": \", count)"
   ]
  },
  {
   "cell_type": "code",
   "execution_count": 176,
   "metadata": {},
   "outputs": [
    {
     "data": {
      "text/plain": [
       "<matplotlib.axes._subplots.AxesSubplot at 0xa92a400>"
      ]
     },
     "execution_count": 176,
     "metadata": {},
     "output_type": "execute_result"
    },
    {
     "data": {
      "image/png": "[encoded data removed]",
      "text/plain": [
       "<Figure size 432x288 with 1 Axes>"
      ]
     },
     "metadata": {},
     "output_type": "display_data"
    }
   ],
   "source": [
    "# bar chart for  most frequently occurring words\n",
    "import pandas as pd\n",
    "import matplotlib.pyplot as plt\n",
    "lst = word_counter.most_common(10)\n",
    "\n",
    "df = pd.DataFrame(lst, columns = ['Word', 'Count'])\n",
    "df.plot.bar(x='Word',y='Count')"
   ]
  },
  {
   "cell_type": "code",
   "execution_count": 221,
   "metadata": {},
   "outputs": [],
   "source": [
    "# remove most frequently occurring words\n",
    "word_list = []\n",
    "for word, count in word_counter.most_common(10):\n",
    "    word_list.append(word)\n",
    "word_list = [word.lower() for word in word_list]\n",
    "def remove_stop_words(abstract):\n",
    "    clean_doc = []\n",
    "    for word in abstract.split():\n",
    "        if word.lower().strip() not in word_list:\n",
    "            clean_doc.append(word.lower().strip())\n",
    "    return \" \".join(clean_doc)"
   ]
  },
  {
   "cell_type": "code",
   "execution_count": 235,
   "metadata": {},
   "outputs": [],
   "source": [
    "dataset = pd.DataFrame(abstracts, columns = ['abstracts'])\n",
    "dataset['cleansed_abstracts'] = dataset.abstracts.apply(remove_stop_words)"
   ]
  },
  {
   "cell_type": "code",
   "execution_count": 253,
   "metadata": {},
   "outputs": [],
   "source": [
    "from sklearn.feature_extraction.text import CountVectorizer\n",
    "vectorizer = CountVectorizer()\n",
    "count_vec_abstracts = vectorizer.fit_transform(list(dataset['cleansed_abstracts']))\n",
    "dataset['count_vec_abstracts'] = count_vec_abstracts"
   ]
  },
  {
   "cell_type": "code",
   "execution_count": 254,
   "metadata": {},
   "outputs": [
    {
     "name": "stdout",
     "output_type": "stream",
     "text": [
      "  (0, 917)\t1\n",
      "  (0, 573)\t1\n",
      "  (0, 325)\t1\n",
      "  (0, 480)\t1\n",
      "  (0, 632)\t1\n",
      "  (0, 815)\t1\n",
      "  (0, 327)\t1\n",
      "  (0, 217)\t1\n",
      "  (0, 272)\t1\n",
      "  (0, 450)\t1\n",
      "  (0, 988)\t1\n",
      "  (0, 700)\t1\n",
      "  (0, 830)\t1\n",
      "  (0, 231)\t1\n",
      "  (0, 13)\t1\n",
      "  (0, 539)\t1\n",
      "  (0, 733)\t2\n",
      "  (0, 284)\t3\n",
      "  (0, 868)\t2\n",
      "  (0, 819)\t2\n",
      "  (0, 226)\t1\n",
      "  (0, 642)\t1\n",
      "  (0, 419)\t1\n",
      "  (0, 97)\t1\n",
      "  (0, 633)\t4\n",
      "  :\t:\n",
      "  (19, 553)\t1\n",
      "  (19, 560)\t2\n",
      "  (19, 124)\t2\n",
      "  (19, 99)\t1\n",
      "  (19, 843)\t1\n",
      "  (19, 408)\t1\n",
      "  (19, 25)\t2\n",
      "  (19, 64)\t1\n",
      "  (19, 368)\t1\n",
      "  (19, 881)\t1\n",
      "  (19, 139)\t2\n",
      "  (19, 407)\t1\n",
      "  (19, 681)\t1\n",
      "  (19, 917)\t1\n",
      "  (19, 272)\t1\n",
      "  (19, 284)\t2\n",
      "  (19, 642)\t2\n",
      "  (19, 445)\t1\n",
      "  (19, 813)\t1\n",
      "  (19, 927)\t1\n",
      "  (19, 375)\t1\n",
      "  (19, 684)\t1\n",
      "  (19, 510)\t1\n",
      "  (19, 757)\t1\n",
      "  (19, 411)\t1\n",
      "  (0, 917)\t1\n",
      "  (0, 573)\t1\n",
      "  (0, 325)\t1\n",
      "  (0, 480)\t1\n",
      "  (0, 632)\t1\n",
      "  (0, 815)\t1\n",
      "  (0, 327)\t1\n",
      "  (0, 217)\t1\n",
      "  (0, 272)\t1\n",
      "  (0, 450)\t1\n",
      "  (0, 988)\t1\n",
      "  (0, 700)\t1\n",
      "  (0, 830)\t1\n",
      "  (0, 231)\t1\n",
      "  (0, 13)\t1\n",
      "  (0, 539)\t1\n",
      "  (0, 733)\t2\n",
      "  (0, 284)\t3\n",
      "  (0, 868)\t2\n",
      "  (0, 819)\t2\n",
      "  (0, 226)\t1\n",
      "  (0, 642)\t1\n",
      "  (0, 419)\t1\n",
      "  (0, 97)\t1\n",
      "  (0, 633)\t4\n",
      "  :\t:\n",
      "  (19, 553)\t1\n",
      "  (19, 560)\t2\n",
      "  (19, 124)\t2\n",
      "  (19, 99)\t1\n",
      "  (19, 843)\t1\n",
      "  (19, 408)\t1\n",
      "  (19, 25)\t2\n",
      "  (19, 64)\t1\n",
      "  (19, 368)\t1\n",
      "  (19, 881)\t1\n",
      "  (19, 139)\t2\n",
      "  (19, 407)\t1\n",
      "  (19, 681)\t1\n",
      "  (19, 917)\t1\n",
      "  (19, 272)\t1\n",
      "  (19, 284)\t2\n",
      "  (19, 642)\t2\n",
      "  (19, 445)\t1\n",
      "  (19, 813)\t1\n",
      "  (19, 927)\t1\n",
      "  (19, 375)\t1\n",
      "  (19, 684)\t1\n",
      "  (19, 510)\t1\n",
      "  (19, 757)\t1\n",
      "  (19, 411)\t1\n"
     ]
    },
    {
     "data": {
      "text/plain": [
       "0    None\n",
       "1    None\n",
       "Name: count_vec_abstracts, dtype: object"
      ]
     },
     "execution_count": 254,
     "metadata": {},
     "output_type": "execute_result"
    }
   ],
   "source": [
    "# print fuction\n",
    "\n",
    "def print_fuction (row):\n",
    "    row = str(row)\n",
    "    print(row)\n",
    "#dataset['count_vec_abstracts'][:2].apply(print_fuction)"
   ]
  },
  {
   "cell_type": "code",
   "execution_count": 256,
   "metadata": {},
   "outputs": [
    {
     "data": {
      "text/plain": [
       "array([[-2.22044605e-16,  8.96434746e-01,  8.55857784e-01,\n",
       "         9.33563616e-01,  9.31288200e-01,  8.22494516e-01,\n",
       "         9.61651751e-01,  9.04422099e-01,  8.54938628e-01,\n",
       "         8.77965957e-01,  8.10862680e-01,  9.44201133e-01,\n",
       "         9.08915993e-01,  8.26074729e-01,  1.00000000e+00,\n",
       "         8.44491617e-01,  9.08362041e-01,  9.57094183e-01,\n",
       "         9.20717503e-01,  8.27867407e-01],\n",
       "       [ 8.96434746e-01,  1.77635684e-15,  8.75003737e-01,\n",
       "         8.53398417e-01,  8.24791638e-01,  8.82071295e-01,\n",
       "         8.91685104e-01,  9.22126795e-01,  8.81809563e-01,\n",
       "         9.28190417e-01,  8.78270258e-01,  7.83841346e-01,\n",
       "         8.88976863e-01,  8.69743488e-01,  9.35539744e-01,\n",
       "         9.28385679e-01,  9.00449212e-01,  8.87789097e-01,\n",
       "         8.77005969e-01,  7.92356482e-01],\n",
       "       [ 8.55857784e-01,  8.75003737e-01,  6.66133815e-16,\n",
       "         9.36998108e-01,  8.37100804e-01,  6.68771634e-01,\n",
       "         9.05448919e-01,  8.60558599e-01,  7.56620570e-01,\n",
       "         7.68549245e-01,  7.81405382e-01,  8.36847602e-01,\n",
       "         7.34704335e-01,  8.55057965e-01,  9.65372832e-01,\n",
       "         8.52530770e-01,  8.52937365e-01,  7.87519477e-01,\n",
       "         8.35962372e-01,  6.98017034e-01],\n",
       "       [ 9.33563616e-01,  8.53398417e-01,  9.36998108e-01,\n",
       "         4.44089210e-16,  9.04896593e-01,  8.93008667e-01,\n",
       "         9.36307024e-01,  9.69471874e-01,  9.65249929e-01,\n",
       "         8.61803968e-01,  9.01831253e-01,  9.80692318e-01,\n",
       "         9.72985303e-01,  9.89057797e-01,  1.00000000e+00,\n",
       "         9.71925504e-01,  9.85365157e-01,  9.90102405e-01,\n",
       "         9.40144973e-01,  8.57051662e-01],\n",
       "       [ 9.31288200e-01,  8.24791638e-01,  8.37100804e-01,\n",
       "         9.04896593e-01, -6.66133815e-16,  8.27868852e-01,\n",
       "         8.79230209e-01,  9.15803466e-01,  9.20132789e-01,\n",
       "         9.20594898e-01,  8.39242612e-01,  7.53716144e-01,\n",
       "         8.60300311e-01,  9.32098190e-01,  9.65152775e-01,\n",
       "         8.64498503e-01,  8.28457764e-01,  9.04458559e-01,\n",
       "         8.34919907e-01,  7.41272555e-01],\n",
       "       [ 8.22494516e-01,  8.82071295e-01,  6.68771634e-01,\n",
       "         8.93008667e-01,  8.27868852e-01,  2.99760217e-15,\n",
       "         8.13355778e-01,  8.78967483e-01,  8.52245659e-01,\n",
       "         8.88832857e-01,  7.33481172e-01,  8.66873591e-01,\n",
       "         7.15943966e-01,  8.56651735e-01,  9.65152775e-01,\n",
       "         8.64498503e-01,  9.14228882e-01,  8.63512227e-01,\n",
       "         7.62697366e-01,  7.04311492e-01],\n",
       "       [ 9.61651751e-01,  8.91685104e-01,  9.05448919e-01,\n",
       "         9.36307024e-01,  8.79230209e-01,  8.13355778e-01,\n",
       "         1.33226763e-15,  9.15417419e-01,  9.03719910e-01,\n",
       "         8.93641093e-01,  7.90340508e-01,  8.79636877e-01,\n",
       "         9.06439851e-01,  9.03996315e-01,  9.41654996e-01,\n",
       "         8.57395181e-01,  9.18904108e-01,  8.81168231e-01,\n",
       "         8.96351876e-01,  8.26724180e-01],\n",
       "       [ 9.04422099e-01,  9.22126795e-01,  8.60558599e-01,\n",
       "         9.69471874e-01,  9.15803466e-01,  8.78967483e-01,\n",
       "         9.15417419e-01, -1.33226763e-15,  8.76940875e-01,\n",
       "         9.08239669e-01,  7.93587973e-01,  9.14533036e-01,\n",
       "         9.52166933e-01,  9.37032529e-01,  8.88140657e-01,\n",
       "         9.31649326e-01,  8.70435447e-01,  9.12375045e-01,\n",
       "         8.54275873e-01,  8.33897351e-01],\n",
       "       [ 8.54938628e-01,  8.81809563e-01,  7.56620570e-01,\n",
       "         9.65249929e-01,  9.20132789e-01,  8.52245659e-01,\n",
       "         9.03719910e-01,  8.76940875e-01,  1.44328993e-15,\n",
       "         9.07155110e-01,  6.66112073e-01,  8.83255864e-01,\n",
       "         8.86566183e-01,  8.12540536e-01,  9.32091124e-01,\n",
       "         8.34962568e-01,  8.77097559e-01,  8.80308142e-01,\n",
       "         8.99468289e-01,  8.19929398e-01],\n",
       "       [ 8.77965957e-01,  9.28190417e-01,  7.68549245e-01,\n",
       "         8.61803968e-01,  9.20594898e-01,  8.88832857e-01,\n",
       "         8.93641093e-01,  9.08239669e-01,  9.07155110e-01,\n",
       "        -8.88178420e-16,  8.60660418e-01,  9.03276118e-01,\n",
       "         9.72933402e-01,  9.26911832e-01,  1.00000000e+00,\n",
       "         8.96862409e-01,  9.51123467e-01,  8.47945308e-01,\n",
       "         9.10044966e-01,  9.04518017e-01],\n",
       "       [ 8.10862680e-01,  8.78270258e-01,  7.81405382e-01,\n",
       "         9.01831253e-01,  8.39242612e-01,  7.33481172e-01,\n",
       "         7.90340508e-01,  7.93587973e-01,  6.66112073e-01,\n",
       "         8.60660418e-01, -8.88178420e-16,  8.72889004e-01,\n",
       "         8.70217803e-01,  8.13092275e-01,  9.28059183e-01,\n",
       "         7.70215322e-01,  8.28136655e-01,  8.52068651e-01,\n",
       "         8.29599103e-01,  6.56628583e-01],\n",
       "       [ 9.44201133e-01,  7.83841346e-01,  8.36847602e-01,\n",
       "         9.80692318e-01,  7.53716144e-01,  8.66873591e-01,\n",
       "         8.79636877e-01,  9.14533036e-01,  8.83255864e-01,\n",
       "         9.03276118e-01,  8.72889004e-01,  1.66533454e-15,\n",
       "         9.24369281e-01,  8.92781201e-01,  9.64626970e-01,\n",
       "         8.82103376e-01,  8.72987082e-01,  8.64223726e-01,\n",
       "         8.32429036e-01,  8.44922442e-01],\n",
       "       [ 9.08915993e-01,  8.88976863e-01,  7.34704335e-01,\n",
       "         9.72985303e-01,  8.60300311e-01,  7.15943966e-01,\n",
       "         9.06439851e-01,  9.52166933e-01,  8.86566183e-01,\n",
       "         9.72933402e-01,  8.70217803e-01,  9.24369281e-01,\n",
       "        -1.77635684e-15,  8.75700079e-01,  9.10912919e-01,\n",
       "         8.90028520e-01,  8.28020210e-01,  8.17780175e-01,\n",
       "         9.35523505e-01,  8.18017106e-01],\n",
       "       [ 8.26074729e-01,  8.69743488e-01,  8.55057965e-01,\n",
       "         9.89057797e-01,  9.32098190e-01,  8.56651735e-01,\n",
       "         9.03996315e-01,  9.37032529e-01,  8.12540536e-01,\n",
       "         9.26911832e-01,  8.13092275e-01,  8.92781201e-01,\n",
       "         8.75700079e-01,  7.77156117e-16,  9.35849970e-01,\n",
       "         9.06458565e-01,  9.16408268e-01,  8.90073989e-01,\n",
       "         9.24026282e-01,  8.41236776e-01],\n",
       "       [ 1.00000000e+00,  9.35539744e-01,  9.65372832e-01,\n",
       "         1.00000000e+00,  9.65152775e-01,  9.65152775e-01,\n",
       "         9.41654996e-01,  8.88140657e-01,  9.32091124e-01,\n",
       "         1.00000000e+00,  9.28059183e-01,  9.64626970e-01,\n",
       "         9.10912919e-01,  9.35849970e-01,  6.66133815e-16,\n",
       "         9.79426220e-01,  7.74778692e-01,  6.59097924e-01,\n",
       "         9.01307246e-01,  9.34527150e-01],\n",
       "       [ 8.44491617e-01,  9.28385679e-01,  8.52530770e-01,\n",
       "         9.71925504e-01,  8.64498503e-01,  8.64498503e-01,\n",
       "         8.57395181e-01,  9.31649326e-01,  8.34962568e-01,\n",
       "         8.96862409e-01,  7.70215322e-01,  8.82103376e-01,\n",
       "         8.90028520e-01,  9.06458565e-01,  9.79426220e-01,\n",
       "         1.11022302e-15,  8.57018688e-01,  9.03301244e-01,\n",
       "         9.26902612e-01,  7.52686391e-01],\n",
       "       [ 9.08362041e-01,  9.00449212e-01,  8.52937365e-01,\n",
       "         9.85365157e-01,  8.28457764e-01,  9.14228882e-01,\n",
       "         9.18904108e-01,  8.70435447e-01,  8.77097559e-01,\n",
       "         9.51123467e-01,  8.28136655e-01,  8.72987082e-01,\n",
       "         8.28020210e-01,  9.16408268e-01,  7.74778692e-01,\n",
       "         8.57018688e-01, -8.88178420e-16,  8.90783293e-01,\n",
       "         8.60282958e-01,  8.10410102e-01],\n",
       "       [ 9.57094183e-01,  8.87789097e-01,  7.87519477e-01,\n",
       "         9.90102405e-01,  9.04458559e-01,  8.63512227e-01,\n",
       "         8.81168231e-01,  9.12375045e-01,  8.80308142e-01,\n",
       "         8.47945308e-01,  8.52068651e-01,  8.64223726e-01,\n",
       "         8.17780175e-01,  8.90073989e-01,  6.59097924e-01,\n",
       "         9.03301244e-01,  8.90783293e-01,  1.11022302e-15,\n",
       "         9.09803933e-01,  8.51264448e-01],\n",
       "       [ 9.20717503e-01,  8.77005969e-01,  8.35962372e-01,\n",
       "         9.40144973e-01,  8.34919907e-01,  7.62697366e-01,\n",
       "         8.96351876e-01,  8.54275873e-01,  8.99468289e-01,\n",
       "         9.10044966e-01,  8.29599103e-01,  8.32429036e-01,\n",
       "         9.35523505e-01,  9.24026282e-01,  9.01307246e-01,\n",
       "         9.26902612e-01,  8.60282958e-01,  9.09803933e-01,\n",
       "         2.55351296e-15,  8.44919298e-01],\n",
       "       [ 8.27867407e-01,  7.92356482e-01,  6.98017034e-01,\n",
       "         8.57051662e-01,  7.41272555e-01,  7.04311492e-01,\n",
       "         8.26724180e-01,  8.33897351e-01,  8.19929398e-01,\n",
       "         9.04518017e-01,  6.56628583e-01,  8.44922442e-01,\n",
       "         8.18017106e-01,  8.41236776e-01,  9.34527150e-01,\n",
       "         7.52686391e-01,  8.10410102e-01,  8.51264448e-01,\n",
       "         8.44919298e-01, -1.55431223e-15]])"
      ]
     },
     "execution_count": 256,
     "metadata": {},
     "output_type": "execute_result"
    }
   ],
   "source": [
    "from sklearn.metrics.pairwise import cosine_similarity\n",
    "dist = 1 - cosine_similarity(count_vec_abstracts)\n",
    "#dataset['cosine_abstracts'] = dist\n",
    "dist"
   ]
  },
  {
   "cell_type": "code",
   "execution_count": 251,
   "metadata": {},
   "outputs": [
    {
     "data": {
      "text/plain": [
       "20"
      ]
     },
     "execution_count": 251,
     "metadata": {},
     "output_type": "execute_result"
    }
   ],
   "source": [
    "len(cosine)"
   ]
  },
  {
   "cell_type": "code",
   "execution_count": null,
   "metadata": {},
   "outputs": [],
   "source": []
  }
 ],
 "metadata": {
  "kernelspec": {
   "display_name": "Python 3",
   "language": "python",
   "name": "python3"
  },
  "language_info": {
   "codemirror_mode": {
    "name": "ipython",
    "version": 3
   },
   "file_extension": ".py",
   "mimetype": "text/x-python",
   "name": "python",
   "nbconvert_exporter": "python",
   "pygments_lexer": "ipython3",
   "version": "3.6.4"
  }
 },
 "nbformat": 4,
 "nbformat_minor": 2
}
