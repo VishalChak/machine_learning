{
 "cells": [
  {
   "cell_type": "code",
   "execution_count": 12,
   "metadata": {},
   "outputs": [],
   "source": [
    "# Sentence segmentation or boundry detection"
   ]
  },
  {
   "cell_type": "code",
   "execution_count": 13,
   "metadata": {},
   "outputs": [],
   "source": [
    "import pandas as pd\n",
    "import spacy"
   ]
  },
  {
   "cell_type": "code",
   "execution_count": 14,
   "metadata": {},
   "outputs": [
    {
     "data": {
      "text/html": [
       "<div>\n",
       "<style scoped>\n",
       "    .dataframe tbody tr th:only-of-type {\n",
       "        vertical-align: middle;\n",
       "    }\n",
       "\n",
       "    .dataframe tbody tr th {\n",
       "        vertical-align: top;\n",
       "    }\n",
       "\n",
       "    .dataframe thead th {\n",
       "        text-align: right;\n",
       "    }\n",
       "</style>\n",
       "<table border=\"1\" class=\"dataframe\">\n",
       "  <thead>\n",
       "    <tr style=\"text-align: right;\">\n",
       "      <th></th>\n",
       "      <th>news</th>\n",
       "      <th>type</th>\n",
       "    </tr>\n",
       "  </thead>\n",
       "  <tbody>\n",
       "    <tr>\n",
       "      <th>0</th>\n",
       "      <td>China had role in Yukos split-up\\n \\n China le...</td>\n",
       "      <td>business</td>\n",
       "    </tr>\n",
       "    <tr>\n",
       "      <th>1</th>\n",
       "      <td>Oil rebounds from weather effect\\n \\n Oil pric...</td>\n",
       "      <td>business</td>\n",
       "    </tr>\n",
       "    <tr>\n",
       "      <th>2</th>\n",
       "      <td>Indonesia 'declines debt freeze'\\n \\n Indonesi...</td>\n",
       "      <td>business</td>\n",
       "    </tr>\n",
       "    <tr>\n",
       "      <th>3</th>\n",
       "      <td>$1m payoff for former Shell boss\\n \\n Shell is...</td>\n",
       "      <td>business</td>\n",
       "    </tr>\n",
       "    <tr>\n",
       "      <th>4</th>\n",
       "      <td>US bank in $515m SEC settlement\\n \\n Five Bank...</td>\n",
       "      <td>business</td>\n",
       "    </tr>\n",
       "  </tbody>\n",
       "</table>\n",
       "</div>"
      ],
      "text/plain": [
       "                                                news      type\n",
       "0  China had role in Yukos split-up\\n \\n China le...  business\n",
       "1  Oil rebounds from weather effect\\n \\n Oil pric...  business\n",
       "2  Indonesia 'declines debt freeze'\\n \\n Indonesi...  business\n",
       "3  $1m payoff for former Shell boss\\n \\n Shell is...  business\n",
       "4  US bank in $515m SEC settlement\\n \\n Five Bank...  business"
      ]
     },
     "execution_count": 14,
     "metadata": {},
     "output_type": "execute_result"
    }
   ],
   "source": [
    "base_path = \"/home/vishal/Datasets/BBC-Dataset-News-Classification/\"\n",
    "train_path = base_path + \"dataset.csv\"\n",
    "dataset = pd.read_csv(train_path, encoding='ISO-8859-1')\n",
    "dataset.head()"
   ]
  },
  {
   "cell_type": "code",
   "execution_count": 15,
   "metadata": {},
   "outputs": [
    {
     "data": {
      "text/plain": [
       "'US bank in $515m SEC settlement\\n \\n Five Bank of America subsidiaries have agreed to pay a total of $515m (Â£277m) to settle an investigation into fraudulent trading share practices.\\n \\n The US Securities and Exchange Commission announced the settlements, the latest in an industry-wide clean-up of US mutual funds. The SEC also said it had brought fraud charges against two ex-senior executives of Columbia Distributor. Columbia Distributor was part of FleetBoston, bought by BOA last year. Three other ex-Columbia executives agreed settlements with the SEC.\\n \\n The SEC has set itself the task of stamping out the mutual funds\\' use of market-timing, a form of quick-fire, short-term share trading that harms the interests of small investors, with whom mutual funds are particularly popular. In the last two years, it has imposed penalties totalling nearly $2bn on 15 funds. The SEC unveiled two separate settlements, one covering BOA\\'s direct subsidiaries, and another for businesses that were part of FleetBoston at the time. In both cases, it said there had been secret deals to engage in market timing in mutual fund shares. The SEC agreed a deal totalling $375m with Banc of America Capital Management, BACAP Distributors and Banc of America Securities. It was made up of $250m to pay back gains from market timing, and $125m in penalties. It is to be paid to the damaged funds and their shareholders. Separately, the SEC said it had reached a $140m deal - equally split between penalties and compensation - in its probe into Columbia Management Advisors (CAM) and Columbia Funds Distributor (CFD) and three ex-Columbia executives. These businesses became part of BOA when it snapped up rival bank FleetBoston in a $47bn merger last March.\\n \\n The SEC filed civil fraud charges in a Boston Federal court against James Tambone, who it says headed CFD\\'s sales operations, and his alleged second in command Robert Hussey. The SEC is pressing for the highest tier of financial penalties against the pair for \"multiple violations\", repayment of any personal gains, and an injunction to prevent future breaches, a spokeswoman for the SEC\\'s Boston office told the BBC. There was no immediate comment from the men\\'s\\' lawyers. The SEC\\'s settlement with CAM and CFD included agreements with three other ex-managers, Peter Martin, Erik Gustafson and Joseph Palombo, who paid personal financial penalties of between $50-100,000.\\n'"
      ]
     },
     "execution_count": 15,
     "metadata": {},
     "output_type": "execute_result"
    }
   ],
   "source": [
    "dataset.news[4]"
   ]
  },
  {
   "cell_type": "code",
   "execution_count": 16,
   "metadata": {},
   "outputs": [],
   "source": [
    "nlp = spacy.load('en')"
   ]
  },
  {
   "cell_type": "code",
   "execution_count": 17,
   "metadata": {},
   "outputs": [],
   "source": [
    "#coustom/ Manual Fuction\n",
    "def my_cust_boundry(doc):\n",
    "    for token in doc[:-1]:\n",
    "        if token.text == '---':\n",
    "            doc[token.i+1].is_sent_start = True\n",
    "    return doc\n",
    "        "
   ]
  },
  {
   "cell_type": "code",
   "execution_count": 18,
   "metadata": {},
   "outputs": [],
   "source": [
    "nlp.add_pipe(my_cust_boundry, before='parser')\n",
    "doc = nlp('morning star is certifies for best work palce in india --- and its true --- becayse i am working here from past 25 days---')"
   ]
  },
  {
   "cell_type": "code",
   "execution_count": 19,
   "metadata": {},
   "outputs": [
    {
     "name": "stdout",
     "output_type": "stream",
     "text": [
      "morning star is certifies for best work palce in india ---\n",
      "and its true ---\n",
      "becayse i am working here from past 25 days---\n"
     ]
    }
   ],
   "source": [
    "for sentence in doc.sents:\n",
    "    print(sentence)"
   ]
  },
  {
   "cell_type": "code",
   "execution_count": 20,
   "metadata": {},
   "outputs": [],
   "source": [
    "# alternative method"
   ]
  },
  {
   "cell_type": "code",
   "execution_count": null,
   "metadata": {},
   "outputs": [],
   "source": [
    "from "
   ]
  }
 ],
 "metadata": {
  "kernelspec": {
   "display_name": "Python 3",
   "language": "python",
   "name": "python3"
  },
  "language_info": {
   "codemirror_mode": {
    "name": "ipython",
    "version": 3
   },
   "file_extension": ".py",
   "mimetype": "text/x-python",
   "name": "python",
   "nbconvert_exporter": "python",
   "pygments_lexer": "ipython3",
   "version": "3.6.6"
  }
 },
 "nbformat": 4,
 "nbformat_minor": 2
}
